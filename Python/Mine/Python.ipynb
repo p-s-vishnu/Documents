{
 "cells": [
  {
   "cell_type": "markdown",
   "metadata": {
    "colab_type": "text",
    "id": "dn4i_Yp6tLun"
   },
   "source": [
    "Topics\n",
    "\n",
    "- variable assignments, multiple asssignments, storage locations (id) , Multiline strings, indexing in strings (last index), slicing [:], mutable list, tuple, \n",
    "unordered sets, unordered dictionary, conversion of data types\n",
    "\n",
    "- Output FORMAT -- with index in format(), key value pair\n",
    "\n",
    "- Operators (other than normal, exponent, floor, modulo), logical operators, bitwise operators, \n",
    "\n",
    "- if-else (0 None and False) \n",
    "\n",
    "- while, for, break, continue\n",
    "\n",
    "- list: append, insert, remove,  extend, del, pop(index), reverse(), sorted,  count(), \n",
    "a in lst, list comprehension, matrix\n",
    "\n",
    "- tuple: initializing (two ways,) , nested tuple, slicing, deleting an elem,  sum(), max(), min()\n",
    "\n",
    "- sets: try indexing, add(), update( list, set), discard, remove, pop, clear, set operations, frozen sets\n",
    "\n",
    "- dictionary: unordered, same operations as before, dictionary methods - copy, formkeys(), items(), values(), *dir()*, \n"
   ]
  },
  {
   "cell_type": "code",
   "execution_count": 0,
   "metadata": {
    "colab": {},
    "colab_type": "code",
    "id": "x1I4b5hupwaN"
   },
   "outputs": [],
   "source": [
    "import keyword"
   ]
  },
  {
   "cell_type": "code",
   "execution_count": 0,
   "metadata": {
    "colab": {},
    "colab_type": "code",
    "id": "qmL9ehrPp0Yk"
   },
   "outputs": [],
   "source": [
    "'''\n",
    "These keyword cannot be used as an identifier - function, class or variable name\n",
    "'''\n",
    "keywords = keyword.kwlist\n",
    "\n",
    "print(len(keywords),'\\n',type(keywords),'\\n',keywords)"
   ]
  },
  {
   "cell_type": "code",
   "execution_count": 0,
   "metadata": {
    "colab": {
     "base_uri": "https://localhost:8080/",
     "height": 34
    },
    "colab_type": "code",
    "id": "PbiZyggZsAmJ",
    "outputId": "49420a68-6918-4976-b701-4bd742bf2e48"
   },
   "outputs": [
    {
     "data": {
      "text/plain": [
       "-12"
      ]
     },
     "execution_count": 8,
     "metadata": {
      "tags": []
     },
     "output_type": "execute_result"
    }
   ],
   "source": [
    "'''\n",
    "Multiline symbols\n",
    "'''\n",
    "\n",
    "a = 1 + 2 - 3 \\\n",
    "    + 4 - 16\n",
    "\n",
    "a"
   ]
  },
  {
   "cell_type": "code",
   "execution_count": 0,
   "metadata": {
    "colab": {},
    "colab_type": "code",
    "id": "rsQf06D_uYJw"
   },
   "outputs": [],
   "source": [
    "## Complex numbers\n",
    "\n",
    "a = 1 + 2j\n",
    "print('is \"a\"'' a complex number?')\n",
    "print(isinstance(a, complex))\n",
    "type(a)"
   ]
  },
  {
   "cell_type": "code",
   "execution_count": 0,
   "metadata": {
    "colab": {
     "base_uri": "https://localhost:8080/",
     "height": 34
    },
    "colab_type": "code",
    "id": "itmvE8s4wi-x",
    "outputId": "ef554c4f-3184-44b4-b30b-84564c272e5b"
   },
   "outputs": [
    {
     "data": {
      "text/plain": [
       "{10, 20, 27, 30}"
      ]
     },
     "execution_count": 17,
     "metadata": {
      "tags": []
     },
     "output_type": "execute_result"
    }
   ],
   "source": [
    "# Why as sets unordered\n",
    "\"\"\"\n",
    "We cannot index a set - TypeError\n",
    "\"\"\"\n",
    "small_set = {20, 30, 20, 10, 27}\n",
    "small_set\n",
    "\n",
    "# small_set[0]"
   ]
  },
  {
   "cell_type": "code",
   "execution_count": 0,
   "metadata": {
    "colab": {
     "base_uri": "https://localhost:8080/",
     "height": 52
    },
    "colab_type": "code",
    "id": "Ek-Jp85Q0E1l",
    "outputId": "0c23f36a-669c-4e3d-9d40-47b20e14a501"
   },
   "outputs": [
    {
     "name": "stdout",
     "output_type": "stream",
     "text": [
      "Enter your namea\n"
     ]
    },
    {
     "data": {
      "text/plain": [
       "'a'"
      ]
     },
     "execution_count": 20,
     "metadata": {
      "tags": []
     },
     "output_type": "execute_result"
    }
   ],
   "source": [
    "name= input('Enter your name')\n",
    "name"
   ]
  },
  {
   "cell_type": "code",
   "execution_count": 0,
   "metadata": {
    "colab": {
     "base_uri": "https://localhost:8080/",
     "height": 34
    },
    "colab_type": "code",
    "id": "1HuSzsmY2aCA",
    "outputId": "ed78e836-c046-4efc-f7ea-15db54a36f55"
   },
   "outputs": [
    {
     "data": {
      "text/plain": [
       "4"
      ]
     },
     "execution_count": 23,
     "metadata": {
      "tags": []
     },
     "output_type": "execute_result"
    }
   ],
   "source": [
    "# XOR\n",
    "b = 2\n",
    "b^6"
   ]
  },
  {
   "cell_type": "code",
   "execution_count": 0,
   "metadata": {
    "colab": {
     "base_uri": "https://localhost:8080/",
     "height": 34
    },
    "colab_type": "code",
    "id": "tqfmHyZx4eQz",
    "outputId": "4111a41a-559b-4932-9e2e-a6c32ae48643"
   },
   "outputs": [
    {
     "data": {
      "text/plain": [
       "True"
      ]
     },
     "execution_count": 29,
     "metadata": {
      "tags": []
     },
     "output_type": "execute_result"
    }
   ],
   "source": [
    "'''Membership operators'''\n",
    "\n",
    "b_list = ['a', 2, 3.0, False, 2+8j]\n",
    "b in b_list"
   ]
  },
  {
   "cell_type": "code",
   "execution_count": 8,
   "metadata": {
    "colab": {
     "base_uri": "https://localhost:8080/",
     "height": 34
    },
    "colab_type": "code",
    "id": "A8m6nCzJpwlR",
    "outputId": "4798f879-9e39-4ec3-9cf6-c40085951981"
   },
   "outputs": [
    {
     "data": {
      "text/plain": [
       "[1, 3, 6, 8, 2, 4, 6, 8]"
      ]
     },
     "execution_count": 8,
     "metadata": {
      "tags": []
     },
     "output_type": "execute_result"
    }
   ],
   "source": [
    "# List methods\n",
    "a1 = [1, 3, 6, 8]\n",
    "a2 = [2, 4, 6, 8]\n",
    "\n",
    "b1 = a1 + a2\n",
    "b1"
   ]
  },
  {
   "cell_type": "code",
   "execution_count": 7,
   "metadata": {
    "colab": {
     "base_uri": "https://localhost:8080/",
     "height": 34
    },
    "colab_type": "code",
    "id": "BKT7cBRIp-Yc",
    "outputId": "855bea2c-3a50-4f19-f3a2-d946566b8404"
   },
   "outputs": [
    {
     "data": {
      "text/plain": [
       "[1, 3, 6, 8]"
      ]
     },
     "execution_count": 7,
     "metadata": {
      "tags": []
     },
     "output_type": "execute_result"
    }
   ],
   "source": [
    "a1.extend(a2)\n",
    "# del a1[4:]"
   ]
  },
  {
   "cell_type": "code",
   "execution_count": 9,
   "metadata": {
    "colab": {
     "base_uri": "https://localhost:8080/",
     "height": 52
    },
    "colab_type": "code",
    "id": "GeeaLd_yrG4S",
    "outputId": "fa44f4c2-c624-4bd1-9915-922b131c8db7"
   },
   "outputs": [
    {
     "name": "stdout",
     "output_type": "stream",
     "text": [
      "140243891935624\n",
      "140243891935624\n"
     ]
    }
   ],
   "source": [
    "lst = [23, 43, 22, 38]\n",
    "abc = lst\n",
    "\n",
    "print(id(lst))\n",
    "print(id(abc))\n"
   ]
  },
  {
   "cell_type": "code",
   "execution_count": 10,
   "metadata": {
    "colab": {
     "base_uri": "https://localhost:8080/",
     "height": 34
    },
    "colab_type": "code",
    "id": "DX_9S9wArknw",
    "outputId": "18a307b3-4ab3-4056-e38c-369feb98b3c3"
   },
   "outputs": [
    {
     "name": "stdout",
     "output_type": "stream",
     "text": [
      "['This', 'is', 'great']\n"
     ]
    }
   ],
   "source": [
    "# Split()\n",
    "space_txt = \"This is                great\"\n",
    "\n",
    "print(space_txt.split())"
   ]
  },
  {
   "cell_type": "code",
   "execution_count": 20,
   "metadata": {
    "colab": {
     "base_uri": "https://localhost:8080/",
     "height": 69
    },
    "colab_type": "code",
    "id": "NRNQ3lq_sLUj",
    "outputId": "33eca1b5-3f5d-426f-f7cc-10fb3c8bfe7f"
   },
   "outputs": [
    {
     "name": "stdout",
     "output_type": "stream",
     "text": [
      "[23, 12, 45, 75, 20]\n",
      "[20, 75, 45, 12, 23]\n",
      "[20, 75, 45, 12, 23]\n"
     ]
    }
   ],
   "source": [
    "step = [23, 12, 45, 75, 20]\n",
    "print(step)\n",
    "\n",
    "print(step[-1:-6:-1])\n",
    "\n",
    "print(step[::-1])"
   ]
  },
  {
   "cell_type": "markdown",
   "metadata": {
    "colab_type": "text",
    "id": "JASKhYR7wEJr"
   },
   "source": [
    "### WRITE TRANSPOSE also with list comprehension?"
   ]
  },
  {
   "cell_type": "code",
   "execution_count": 26,
   "metadata": {
    "colab": {
     "base_uri": "https://localhost:8080/",
     "height": 34
    },
    "colab_type": "code",
    "id": "zR_MwBJVusmj",
    "outputId": "45825bd5-6a1b-4475-b7ee-93d76342727d"
   },
   "outputs": [
    {
     "name": "stdout",
     "output_type": "stream",
     "text": [
      "('1', 1, [1, 2, 3])\n"
     ]
    }
   ],
   "source": [
    "# Can you edit a list inside a tuple\n",
    "\n",
    "tup = ('1', 1, [1,2,3])\n",
    "print(tup)\n",
    "tup[2][0] = 0"
   ]
  },
  {
   "cell_type": "code",
   "execution_count": 27,
   "metadata": {
    "colab": {
     "base_uri": "https://localhost:8080/",
     "height": 34
    },
    "colab_type": "code",
    "id": "pzVITAV3yLr-",
    "outputId": "782acc29-4649-4c74-8d19-345fddeafdfb"
   },
   "outputs": [
    {
     "data": {
      "text/plain": [
       "('1', 1, [0, 2, 3])"
      ]
     },
     "execution_count": 27,
     "metadata": {
      "tags": []
     },
     "output_type": "execute_result"
    }
   ],
   "source": [
    "tup"
   ]
  },
  {
   "cell_type": "code",
   "execution_count": 28,
   "metadata": {
    "colab": {
     "base_uri": "https://localhost:8080/",
     "height": 34
    },
    "colab_type": "code",
    "id": "3M1jgwefyPlL",
    "outputId": "9f916479-aea2-4422-8a5b-56669870c38b"
   },
   "outputs": [
    {
     "data": {
      "text/plain": [
       "('1', 1)"
      ]
     },
     "execution_count": 28,
     "metadata": {
      "tags": []
     },
     "output_type": "execute_result"
    }
   ],
   "source": [
    "tup[:2]"
   ]
  },
  {
   "cell_type": "code",
   "execution_count": 39,
   "metadata": {
    "colab": {
     "base_uri": "https://localhost:8080/",
     "height": 191
    },
    "colab_type": "code",
    "id": "qKu1MmHB02ra",
    "outputId": "703b71c4-9bdb-443a-a579-83d371ad34b8"
   },
   "outputs": [
    {
     "name": "stdout",
     "output_type": "stream",
     "text": [
      "{0, 1, 2, 3, 7, 9}\n",
      "{0, 1, 2, 3, 7, 9}\n",
      "{3}\n",
      "{3}\n",
      "{0, 1, 9}\n",
      "{0, 1, 9}\n",
      "{0, 1, 2, 7, 9}\n",
      "{0, 1, 2, 7, 9}\n",
      "{0, 1, 3, 5, 6, 9, 11, 14, 16}\n",
      "{0, 1, 3, 5, 6, 9, 11, 12, 14, 16}\n"
     ]
    }
   ],
   "source": [
    "# Set operations\n",
    "\n",
    "seta = {1, 9, 3, 0}\n",
    "setb = {2, 3, 7}\n",
    "\n",
    "print(seta | setb)\n",
    "print(seta.union(setb))\n",
    "\n",
    "print(seta & setb)\n",
    "print(seta.intersection(setb))\n",
    "\n",
    "print(seta - setb)\n",
    "print(seta.difference(setb))\n",
    "\n",
    "print(seta ^ setb)\n",
    "print(seta.symmetric_difference(setb))\n",
    "\n",
    "seta.update([11,14,16], [3,5,6])\n",
    "print(seta)\n",
    "seta.add(12)\n",
    "print(seta)"
   ]
  },
  {
   "cell_type": "code",
   "execution_count": 40,
   "metadata": {
    "colab": {
     "base_uri": "https://localhost:8080/",
     "height": 34
    },
    "colab_type": "code",
    "id": "GeI2PqTo3Isi",
    "outputId": "498b8dd6-4a22-4f02-87a5-fcb099ced314"
   },
   "outputs": [
    {
     "data": {
      "text/plain": [
       "False"
      ]
     },
     "execution_count": 40,
     "metadata": {
      "tags": []
     },
     "output_type": "execute_result"
    }
   ],
   "source": [
    "setb.issubset(seta)"
   ]
  },
  {
   "cell_type": "markdown",
   "metadata": {
    "colab_type": "text",
    "id": "RLGv6ITO5VLT"
   },
   "source": [
    "### Why dictionary are fast?"
   ]
  },
  {
   "cell_type": "code",
   "execution_count": 45,
   "metadata": {
    "colab": {
     "base_uri": "https://localhost:8080/",
     "height": 52
    },
    "colab_type": "code",
    "id": "EAzkRrnO5Zaj",
    "outputId": "d76daca8-3891-4c6a-a510-d05cd9696434"
   },
   "outputs": [
    {
     "name": "stdout",
     "output_type": "stream",
     "text": [
      "1\n",
      "None\n"
     ]
    }
   ],
   "source": [
    "d = {0:1, 'b':2}\n",
    "\n",
    "print(d[0])\n",
    "\n",
    "print(d.get('c'))"
   ]
  },
  {
   "cell_type": "code",
   "execution_count": 48,
   "metadata": {
    "colab": {
     "base_uri": "https://localhost:8080/",
     "height": 52
    },
    "colab_type": "code",
    "id": "d0WWih3m5_0y",
    "outputId": "fe9b53e1-b779-4268-d5c4-75791fc4725f"
   },
   "outputs": [
    {
     "name": "stdout",
     "output_type": "stream",
     "text": [
      "0\n",
      "b\n"
     ]
    }
   ],
   "source": [
    "for a in d:\n",
    "  print(a)"
   ]
  },
  {
   "cell_type": "code",
   "execution_count": 52,
   "metadata": {
    "colab": {
     "base_uri": "https://localhost:8080/",
     "height": 173
    },
    "colab_type": "code",
    "id": "uCjAT3UM7TZ-",
    "outputId": "1925275d-35a3-4609-dfd0-2d8626e64409"
   },
   "outputs": [
    {
     "name": "stdout",
     "output_type": "stream",
     "text": [
      "Help on built-in function isinstance in module builtins:\n",
      "\n",
      "isinstance(obj, class_or_tuple, /)\n",
      "    Return whether an object is an instance of a class or of a subclass thereof.\n",
      "    \n",
      "    A tuple, as in ``isinstance(x, (A, B, ...))``, may be given as the target to\n",
      "    check against. This is equivalent to ``isinstance(x, A) or isinstance(x, B)\n",
      "    or ...`` etc.\n",
      "\n"
     ]
    }
   ],
   "source": [
    "help(isinstance)"
   ]
  },
  {
   "cell_type": "code",
   "execution_count": 0,
   "metadata": {
    "colab": {},
    "colab_type": "code",
    "id": "NqrDR-VM7AY4"
   },
   "outputs": [],
   "source": [
    "new_d = { k:v for k, v in d.items() if isinstance(k, int) }"
   ]
  },
  {
   "cell_type": "code",
   "execution_count": 62,
   "metadata": {
    "colab": {
     "base_uri": "https://localhost:8080/",
     "height": 34
    },
    "colab_type": "code",
    "id": "XiSZF1DS7eKs",
    "outputId": "3921b395-4f67-4f61-fc14-0f5f4b9a5dba"
   },
   "outputs": [
    {
     "data": {
      "text/plain": [
       "dict_items([(0, 1)])"
      ]
     },
     "execution_count": 62,
     "metadata": {
      "tags": []
     },
     "output_type": "execute_result"
    }
   ],
   "source": [
    "new_d.items()"
   ]
  },
  {
   "cell_type": "code",
   "execution_count": 0,
   "metadata": {
    "colab": {},
    "colab_type": "code",
    "id": "tQlYEKo974A7"
   },
   "outputs": [],
   "source": []
  }
 ],
 "metadata": {
  "colab": {
   "collapsed_sections": [],
   "name": "Python.ipynb",
   "provenance": [],
   "version": "0.3.2"
  },
  "kernelspec": {
   "display_name": "Python 3",
   "language": "python",
   "name": "python3"
  },
  "language_info": {
   "codemirror_mode": {
    "name": "ipython",
    "version": 3
   },
   "file_extension": ".py",
   "mimetype": "text/x-python",
   "name": "python",
   "nbconvert_exporter": "python",
   "pygments_lexer": "ipython3",
   "version": "3.7.2"
  }
 },
 "nbformat": 4,
 "nbformat_minor": 1
}
