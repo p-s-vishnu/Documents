{
  "nbformat": 4,
  "nbformat_minor": 0,
  "metadata": {
    "colab": {
      "name": "Python 2.ipynb",
      "version": "0.3.2",
      "provenance": []
    },
    "language_info": {
      "codemirror_mode": {
        "name": "ipython",
        "version": 3
      },
      "file_extension": ".py",
      "mimetype": "text/x-python",
      "name": "python",
      "nbconvert_exporter": "python",
      "pygments_lexer": "ipython3",
      "version": "3.7.2"
    },
    "kernelspec": {
      "display_name": "Python 3",
      "language": "python",
      "name": "python3"
    }
  },
  "cells": [
    {
      "cell_type": "markdown",
      "metadata": {
        "id": "rZBPBs6fsMNv",
        "colab_type": "text"
      },
      "source": [
        "## Topics\n",
        "\n",
        "- Functions\n",
        "- Recursive functions\n",
        "- lambda functions\n",
        "- modules and packages\n",
        "- file handling \n",
        "- exception handling\n",
        "- Python debugging"
      ]
    },
    {
      "cell_type": "markdown",
      "metadata": {
        "id": "axCtxIHgBM0X",
        "colab_type": "text"
      },
      "source": [
        "```\n",
        "help(), dir(), type()\n",
        "```"
      ]
    },
    {
      "cell_type": "code",
      "metadata": {
        "id": "EntQJzqisMNy",
        "colab_type": "code",
        "colab": {}
      },
      "source": [
        "# Function doc string\n",
        "\n",
        "show = 'Variables and function with same name'\n",
        "\n",
        "def show():\n",
        "  \"\"\"\n",
        "  This simply prints some text\n",
        "  \"\"\"\n",
        "  print('This is a function')"
      ],
      "execution_count": 0,
      "outputs": []
    },
    {
      "cell_type": "code",
      "metadata": {
        "id": "AQm9kXz_tJ1Z",
        "colab_type": "code",
        "colab": {
          "base_uri": "https://localhost:8080/",
          "height": 69
        },
        "outputId": "ca29e737-65ee-45b2-c360-6aefec8cae60"
      },
      "source": [
        "print(show.__doc__)"
      ],
      "execution_count": 2,
      "outputs": [
        {
          "output_type": "stream",
          "text": [
            "\n",
            "  This simply prints some text\n",
            "  \n"
          ],
          "name": "stdout"
        }
      ]
    },
    {
      "cell_type": "code",
      "metadata": {
        "id": "RB0uWowYtlbl",
        "colab_type": "code",
        "colab": {}
      },
      "source": [
        "abs()"
      ],
      "execution_count": 0,
      "outputs": []
    },
    {
      "cell_type": "code",
      "metadata": {
        "id": "sDC-cAypu9pG",
        "colab_type": "code",
        "colab": {
          "base_uri": "https://localhost:8080/",
          "height": 35
        },
        "outputId": "43317353-c32d-4c14-8ef7-4eba40d7d0c3"
      },
      "source": [
        "# if all() are true\n",
        "\n",
        "a = [True, 1, 0]\n",
        "all(a)"
      ],
      "execution_count": 3,
      "outputs": [
        {
          "output_type": "execute_result",
          "data": {
            "text/plain": [
              "False"
            ]
          },
          "metadata": {
            "tags": []
          },
          "execution_count": 3
        }
      ]
    },
    {
      "cell_type": "code",
      "metadata": {
        "id": "ONpUjSW1vYHK",
        "colab_type": "code",
        "colab": {}
      },
      "source": [
        "# dir(), all the attributes associated with the data type\n",
        "\n",
        "dir(divmod)"
      ],
      "execution_count": 0,
      "outputs": []
    },
    {
      "cell_type": "code",
      "metadata": {
        "id": "5psMbGf5v3Yd",
        "colab_type": "code",
        "colab": {
          "base_uri": "https://localhost:8080/",
          "height": 35
        },
        "outputId": "b6a9b20e-7b9d-4580-8bab-f1cb2dea8a63"
      },
      "source": [
        "print(divmod.__doc__)"
      ],
      "execution_count": 10,
      "outputs": [
        {
          "output_type": "stream",
          "text": [
            "Return the tuple (x//y, x%y).  Invariant: div*y + mod == x.\n"
          ],
          "name": "stdout"
        }
      ]
    },
    {
      "cell_type": "code",
      "metadata": {
        "id": "s7FnUUqz1vZK",
        "colab_type": "code",
        "colab": {}
      },
      "source": [
        "def is_high(a):\n",
        "  return a ** 2 > 10\n",
        "  \n",
        "def add(a, b):\n",
        "  return a + b\n",
        "\n",
        "def sub(a, b):\n",
        "  return a - b\n",
        "\n",
        "def mul(a, b):\n",
        "  return a*b\n",
        "\n",
        "def transpose(n=2):\n",
        "  return lambda x: mul(x, n)\n",
        "\n",
        "lst = [3, 4, 5]"
      ],
      "execution_count": 0,
      "outputs": []
    },
    {
      "cell_type": "code",
      "metadata": {
        "id": "9ya59efv_upn",
        "colab_type": "code",
        "colab": {}
      },
      "source": [
        "mul_by_n = transpose()"
      ],
      "execution_count": 0,
      "outputs": []
    },
    {
      "cell_type": "code",
      "metadata": {
        "id": "CyFARl4K_3Kb",
        "colab_type": "code",
        "colab": {
          "base_uri": "https://localhost:8080/",
          "height": 35
        },
        "outputId": "00e79c86-0520-4cc8-eb2d-e71658c0a9ff"
      },
      "source": [
        "mul_by_n(10)"
      ],
      "execution_count": 30,
      "outputs": [
        {
          "output_type": "execute_result",
          "data": {
            "text/plain": [
              "20"
            ]
          },
          "metadata": {
            "tags": []
          },
          "execution_count": 30
        }
      ]
    },
    {
      "cell_type": "code",
      "metadata": {
        "id": "bICZPMWpvnCD",
        "colab_type": "code",
        "colab": {
          "base_uri": "https://localhost:8080/",
          "height": 69
        },
        "outputId": "394d2020-ef0d-4f2d-a2f4-a5cb20eef60a"
      },
      "source": [
        "# enumerate(, startindex)\n",
        "for i, elem in enumerate(lst):\n",
        "  print('position',i,'value', elem)"
      ],
      "execution_count": 13,
      "outputs": [
        {
          "output_type": "stream",
          "text": [
            "position 0 value 3\n",
            "position 1 value 4\n",
            "position 2 value 5\n"
          ],
          "name": "stdout"
        }
      ]
    },
    {
      "cell_type": "code",
      "metadata": {
        "id": "feF89q0zwUmv",
        "colab_type": "code",
        "colab": {
          "base_uri": "https://localhost:8080/",
          "height": 35
        },
        "outputId": "6ffbe1a5-b502-4154-9ea2-1b870311c02f"
      },
      "source": [
        "# filter(function, iterable)\n",
        "list(filter(is_high, lst))"
      ],
      "execution_count": 19,
      "outputs": [
        {
          "output_type": "execute_result",
          "data": {
            "text/plain": [
              "[4, 5]"
            ]
          },
          "metadata": {
            "tags": []
          },
          "execution_count": 19
        }
      ]
    },
    {
      "cell_type": "code",
      "metadata": {
        "id": "xlFAv8xExTxO",
        "colab_type": "code",
        "colab": {
          "base_uri": "https://localhost:8080/",
          "height": 35
        },
        "outputId": "d9bcba72-bb30-49bd-9255-95ef397466c3"
      },
      "source": [
        "# map (funt_name, numbr)\n",
        "list(map(mul_by_n, lst))"
      ],
      "execution_count": 31,
      "outputs": [
        {
          "output_type": "execute_result",
          "data": {
            "text/plain": [
              "[6, 8, 10]"
            ]
          },
          "metadata": {
            "tags": []
          },
          "execution_count": 31
        }
      ]
    },
    {
      "cell_type": "code",
      "metadata": {
        "id": "xMnGwYxKxdI5",
        "colab_type": "code",
        "colab": {
          "base_uri": "https://localhost:8080/",
          "height": 35
        },
        "outputId": "d4d60ccf-3287-40a9-873b-1a62357bd5f4"
      },
      "source": [
        "# reduce()\n",
        "from functools import reduce\n",
        "reduce(sub, lst)"
      ],
      "execution_count": 34,
      "outputs": [
        {
          "output_type": "execute_result",
          "data": {
            "text/plain": [
              "-6"
            ]
          },
          "metadata": {
            "tags": []
          },
          "execution_count": 34
        }
      ]
    },
    {
      "cell_type": "code",
      "metadata": {
        "id": "2ToX8DOIxBsa",
        "colab_type": "code",
        "colab": {
          "base_uri": "https://localhost:8080/",
          "height": 35
        },
        "outputId": "dada0352-6a15-4e18-ff0e-9676133cb876"
      },
      "source": [
        "# isinstance(obj, class_or_tuple, /)\n",
        "\n",
        "isinstance(1, bool)"
      ],
      "execution_count": 38,
      "outputs": [
        {
          "output_type": "execute_result",
          "data": {
            "text/plain": [
              "False"
            ]
          },
          "metadata": {
            "tags": []
          },
          "execution_count": 38
        }
      ]
    },
    {
      "cell_type": "code",
      "metadata": {
        "id": "f4bSTghUxEQ7",
        "colab_type": "code",
        "colab": {
          "base_uri": "https://localhost:8080/",
          "height": 52
        },
        "outputId": "d848541c-fb53-4e59-d220-4cc4ffae1dab"
      },
      "source": [
        "# keyword arguments\n",
        "\n",
        "def greet(**kwargs):\n",
        "  print(type(kwargs))\n",
        "  print(kwargs['name'])\n",
        "\n",
        "  \n",
        "greet(name='Moeler', msg='Get ready')"
      ],
      "execution_count": 42,
      "outputs": [
        {
          "output_type": "stream",
          "text": [
            "<class 'dict'>\n",
            "Moeler\n"
          ],
          "name": "stdout"
        }
      ]
    },
    {
      "cell_type": "code",
      "metadata": {
        "id": "MvnjS7YqFsHv",
        "colab_type": "code",
        "colab": {
          "base_uri": "https://localhost:8080/",
          "height": 52
        },
        "outputId": "17657cb9-185c-4f27-f917-6e93e0280386"
      },
      "source": [
        "# arbitary arguments\n",
        "\n",
        "def greet(*names):\n",
        "  print(type(names))\n",
        "  print(names[0], end='')\n",
        "  print(names[1], end='')\n",
        "  \n",
        "greet('This','Is', 'for', 'real')"
      ],
      "execution_count": 49,
      "outputs": [
        {
          "output_type": "stream",
          "text": [
            "<class 'tuple'>\n",
            "ThisIs"
          ],
          "name": "stdout"
        }
      ]
    },
    {
      "cell_type": "code",
      "metadata": {
        "id": "Z3Ynm4htKQXi",
        "colab_type": "code",
        "colab": {}
      },
      "source": [
        ""
      ],
      "execution_count": 0,
      "outputs": []
    }
  ]
}