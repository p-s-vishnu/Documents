{
  "nbformat": 4,
  "nbformat_minor": 0,
  "metadata": {
    "colab": {
      "name": "Python_libraries.ipynb",
      "version": "0.3.2",
      "provenance": [],
      "include_colab_link": true
    },
    "language_info": {
      "codemirror_mode": {
        "name": "ipython",
        "version": 3
      },
      "file_extension": ".py",
      "mimetype": "text/x-python",
      "name": "python",
      "nbconvert_exporter": "python",
      "pygments_lexer": "ipython3",
      "version": "3.7.2"
    },
    "kernelspec": {
      "display_name": "Python 3",
      "language": "python",
      "name": "python3"
    }
  },
  "cells": [
    {
      "cell_type": "markdown",
      "metadata": {
        "id": "view-in-github",
        "colab_type": "text"
      },
      "source": [
        "<a href=\"https://colab.research.google.com/github/p-s-vishnu/Documents/blob/master/Python/Mine/Python_libraries.ipynb\" target=\"_parent\"><img src=\"https://colab.research.google.com/assets/colab-badge.svg\" alt=\"Open In Colab\"/></a>"
      ]
    },
    {
      "cell_type": "markdown",
      "metadata": {
        "id": "YKF7hfpQq0Cq",
        "colab_type": "text"
      },
      "source": [
        "# Topics\n",
        "\n",
        "- Numpy\n",
        "- Pandas\n",
        "- Matplotlib\n",
        "\n",
        "- pillow \n",
        "- tessaract\n",
        "- opencv"
      ]
    },
    {
      "cell_type": "markdown",
      "metadata": {
        "id": "Kn9SVw6NK7SP",
        "colab_type": "text"
      },
      "source": [
        "# Numpy"
      ]
    },
    {
      "cell_type": "code",
      "metadata": {
        "id": "XApPdp2_q0Cu",
        "colab_type": "code",
        "colab": {}
      },
      "source": [
        "import numpy as np"
      ],
      "execution_count": 0,
      "outputs": []
    },
    {
      "cell_type": "code",
      "metadata": {
        "id": "kIJM-aquHQEM",
        "colab_type": "code",
        "colab": {
          "base_uri": "https://localhost:8080/",
          "height": 34
        },
        "outputId": "4f9dbcbb-1365-4f12-bbc6-093908479f10"
      },
      "source": [
        "np.arange(10)"
      ],
      "execution_count": 3,
      "outputs": [
        {
          "output_type": "execute_result",
          "data": {
            "text/plain": [
              "array([0, 1, 2, 3, 4, 5, 6, 7, 8, 9])"
            ]
          },
          "metadata": {
            "tags": []
          },
          "execution_count": 3
        }
      ]
    },
    {
      "cell_type": "code",
      "metadata": {
        "id": "tlQ8SsJbHZZl",
        "colab_type": "code",
        "colab": {}
      },
      "source": [
        "lst = [1, 11, 111, 1111]\n",
        "dic = {'a':1, 'b':2, 'c':3}\n",
        "st = {2, 4, 6}"
      ],
      "execution_count": 0,
      "outputs": []
    },
    {
      "cell_type": "code",
      "metadata": {
        "id": "RveRi9yNIVSA",
        "colab_type": "code",
        "colab": {
          "base_uri": "https://localhost:8080/",
          "height": 52
        },
        "outputId": "c1aa9256-1cfe-43f5-84df-d1bfbb08d5d5"
      },
      "source": [
        "print(np.array(lst))\n",
        "print(type(np.array(lst)))"
      ],
      "execution_count": 12,
      "outputs": [
        {
          "output_type": "stream",
          "text": [
            "[   1   11  111 1111]\n",
            "<class 'numpy.ndarray'>\n"
          ],
          "name": "stdout"
        }
      ]
    },
    {
      "cell_type": "code",
      "metadata": {
        "id": "I6gHMvHDIWhu",
        "colab_type": "code",
        "colab": {
          "base_uri": "https://localhost:8080/",
          "height": 52
        },
        "outputId": "d6ab3068-1e6d-42e4-a248-35d09a551e6d"
      },
      "source": [
        "print(np.array(dic))\n",
        "print(type(np.array(dict)))"
      ],
      "execution_count": 13,
      "outputs": [
        {
          "output_type": "stream",
          "text": [
            "{'a': 1, 'b': 2, 'c': 3}\n",
            "<class 'numpy.ndarray'>\n"
          ],
          "name": "stdout"
        }
      ]
    },
    {
      "cell_type": "code",
      "metadata": {
        "id": "ju7f925dIZL6",
        "colab_type": "code",
        "colab": {
          "base_uri": "https://localhost:8080/",
          "height": 34
        },
        "outputId": "23d5967f-7b5b-4ed8-c848-dffe3895854d"
      },
      "source": [
        "np.array(st)"
      ],
      "execution_count": 10,
      "outputs": [
        {
          "output_type": "execute_result",
          "data": {
            "text/plain": [
              "array({2, 4, 6}, dtype=object)"
            ]
          },
          "metadata": {
            "tags": []
          },
          "execution_count": 10
        }
      ]
    },
    {
      "cell_type": "code",
      "metadata": {
        "id": "Ua-tGOx7JpDP",
        "colab_type": "code",
        "colab": {
          "base_uri": "https://localhost:8080/",
          "height": 34
        },
        "outputId": "4b728618-2737-46e0-8c79-db165c2ae8e6"
      },
      "source": [
        "# Comparing with usual method\n",
        "L = range(1000)\n",
        "\n",
        "%timeit [ i**2 for i in L]"
      ],
      "execution_count": 21,
      "outputs": [
        {
          "output_type": "stream",
          "text": [
            "1000 loops, best of 3: 295 µs per loop\n"
          ],
          "name": "stdout"
        }
      ]
    },
    {
      "cell_type": "code",
      "metadata": {
        "id": "wnMy0JoDIdbN",
        "colab_type": "code",
        "colab": {
          "base_uri": "https://localhost:8080/",
          "height": 52
        },
        "outputId": "e217ea14-d68b-4c83-f4d4-533ecb581dad"
      },
      "source": [
        "a =  np.array([i for i in L])\n",
        "%timeit a**2"
      ],
      "execution_count": 19,
      "outputs": [
        {
          "output_type": "stream",
          "text": [
            "The slowest run took 38.42 times longer than the fastest. This could mean that an intermediate result is being cached.\n",
            "1000000 loops, best of 3: 1.32 µs per loop\n"
          ],
          "name": "stdout"
        }
      ]
    },
    {
      "cell_type": "code",
      "metadata": {
        "id": "msK_FkKdJS-y",
        "colab_type": "code",
        "colab": {
          "base_uri": "https://localhost:8080/",
          "height": 52
        },
        "outputId": "816bd071-5f38-4ec0-cff7-15d6825271ac"
      },
      "source": [
        "# Multidimensional arrays\n",
        "\n",
        "a = np.array([1, 2, 3])\n",
        "print(a.ndim)\n",
        "print(a.shape)"
      ],
      "execution_count": 24,
      "outputs": [
        {
          "output_type": "stream",
          "text": [
            "1\n",
            "(3,)\n"
          ],
          "name": "stdout"
        }
      ]
    },
    {
      "cell_type": "code",
      "metadata": {
        "id": "ScZ8bw_jLNDV",
        "colab_type": "code",
        "colab": {
          "base_uri": "https://localhost:8080/",
          "height": 52
        },
        "outputId": "97e3642b-2c0e-4f46-9fd5-5e72d9458426"
      },
      "source": [
        "b = np.array([ [1,2,3], [4,5,6] ])\n",
        "print(b.ndim)\n",
        "print(b.shape)"
      ],
      "execution_count": 25,
      "outputs": [
        {
          "output_type": "stream",
          "text": [
            "2\n",
            "(2, 3)\n"
          ],
          "name": "stdout"
        }
      ]
    },
    {
      "cell_type": "code",
      "metadata": {
        "id": "IouwgnoZL4vP",
        "colab_type": "code",
        "colab": {
          "base_uri": "https://localhost:8080/",
          "height": 52
        },
        "outputId": "c41614fa-dda1-49d2-ddcb-a8bc97d112fd"
      },
      "source": [
        "c = np.array([ [ [1,2] ], [ [3,4] ] ])\n",
        "print(c.ndim)\n",
        "print(c.shape)"
      ],
      "execution_count": 26,
      "outputs": [
        {
          "output_type": "stream",
          "text": [
            "3\n",
            "(2, 1, 2)\n"
          ],
          "name": "stdout"
        }
      ]
    },
    {
      "cell_type": "code",
      "metadata": {
        "id": "zz2MhtZwMO34",
        "colab_type": "code",
        "colab": {
          "base_uri": "https://localhost:8080/",
          "height": 34
        },
        "outputId": "21eb7060-c3d5-4967-912b-c2ca834d8319"
      },
      "source": [
        "# Arrange v/s Linspace, end is excluded\n",
        "a = np.arange(0,10, 1)\n",
        "a"
      ],
      "execution_count": 32,
      "outputs": [
        {
          "output_type": "execute_result",
          "data": {
            "text/plain": [
              "array([0, 1, 2, 3, 4, 5, 6, 7, 8, 9])"
            ]
          },
          "metadata": {
            "tags": []
          },
          "execution_count": 32
        }
      ]
    },
    {
      "cell_type": "code",
      "metadata": {
        "id": "FbsJLQNJPxJr",
        "colab_type": "code",
        "colab": {
          "base_uri": "https://localhost:8080/",
          "height": 34
        },
        "outputId": "08670ccb-e680-4c3d-b28b-c575d1559a67"
      },
      "source": [
        "b = np.linspace(1, 20, 3)    # 3rd parameter is the number of points, start end included\n",
        "b"
      ],
      "execution_count": 28,
      "outputs": [
        {
          "output_type": "execute_result",
          "data": {
            "text/plain": [
              "array([ 1. , 10.5, 20. ])"
            ]
          },
          "metadata": {
            "tags": []
          },
          "execution_count": 28
        }
      ]
    },
    {
      "cell_type": "code",
      "metadata": {
        "id": "IUOmOGxeP1lR",
        "colab_type": "code",
        "colab": {
          "base_uri": "https://localhost:8080/",
          "height": 208
        },
        "outputId": "04369cea-7e64-4156-cf92-7b900487f597"
      },
      "source": [
        "np.ones((4,2,3))"
      ],
      "execution_count": 44,
      "outputs": [
        {
          "output_type": "execute_result",
          "data": {
            "text/plain": [
              "array([[[1., 1., 1.],\n",
              "        [1., 1., 1.]],\n",
              "\n",
              "       [[1., 1., 1.],\n",
              "        [1., 1., 1.]],\n",
              "\n",
              "       [[1., 1., 1.],\n",
              "        [1., 1., 1.]],\n",
              "\n",
              "       [[1., 1., 1.],\n",
              "        [1., 1., 1.]]])"
            ]
          },
          "metadata": {
            "tags": []
          },
          "execution_count": 44
        }
      ]
    },
    {
      "cell_type": "code",
      "metadata": {
        "id": "CYY6pcHuSyQh",
        "colab_type": "code",
        "colab": {
          "base_uri": "https://localhost:8080/",
          "height": 69
        },
        "outputId": "313252d8-6455-42bd-8d06-4ef342270b45"
      },
      "source": [
        "np.eye(3, 4)"
      ],
      "execution_count": 42,
      "outputs": [
        {
          "output_type": "execute_result",
          "data": {
            "text/plain": [
              "array([[1., 0., 0., 0.],\n",
              "       [0., 1., 0., 0.],\n",
              "       [0., 0., 1., 0.]])"
            ]
          },
          "metadata": {
            "tags": []
          },
          "execution_count": 42
        }
      ]
    },
    {
      "cell_type": "code",
      "metadata": {
        "id": "923a5rIcTYSD",
        "colab_type": "code",
        "colab": {}
      },
      "source": [
        "# diagonal\n"
      ],
      "execution_count": 0,
      "outputs": []
    },
    {
      "cell_type": "code",
      "metadata": {
        "id": "LFdHptpbTf6y",
        "colab_type": "code",
        "colab": {}
      },
      "source": [
        "# rand v/s randn()"
      ],
      "execution_count": 0,
      "outputs": []
    },
    {
      "cell_type": "code",
      "metadata": {
        "id": "3PuEplb4USjJ",
        "colab_type": "code",
        "colab": {
          "base_uri": "https://localhost:8080/",
          "height": 34
        },
        "outputId": "67eb02d8-36d8-4f9f-be49-cd6b830adc44"
      },
      "source": [
        "np.arange(10)"
      ],
      "execution_count": 48,
      "outputs": [
        {
          "output_type": "execute_result",
          "data": {
            "text/plain": [
              "array([0, 1, 2, 3, 4, 5, 6, 7, 8, 9])"
            ]
          },
          "metadata": {
            "tags": []
          },
          "execution_count": 48
        }
      ]
    },
    {
      "cell_type": "code",
      "metadata": {
        "id": "T_NgzeYeUUSJ",
        "colab_type": "code",
        "colab": {
          "base_uri": "https://localhost:8080/",
          "height": 34
        },
        "outputId": "db806d6f-e786-47bc-fefa-9252f84db454"
      },
      "source": [
        "np.arange(10, dtype=float)"
      ],
      "execution_count": 49,
      "outputs": [
        {
          "output_type": "execute_result",
          "data": {
            "text/plain": [
              "array([0., 1., 2., 3., 4., 5., 6., 7., 8., 9.])"
            ]
          },
          "metadata": {
            "tags": []
          },
          "execution_count": 49
        }
      ]
    },
    {
      "cell_type": "code",
      "metadata": {
        "id": "lqnq64FzUb1u",
        "colab_type": "code",
        "colab": {
          "base_uri": "https://localhost:8080/",
          "height": 34
        },
        "outputId": "3d1d3cb9-6d2e-4113-f75c-f1e4b3a7205e"
      },
      "source": [
        "# slicing \n",
        "\n",
        "lst[0:3:2]"
      ],
      "execution_count": 51,
      "outputs": [
        {
          "output_type": "execute_result",
          "data": {
            "text/plain": [
              "[1, 111]"
            ]
          },
          "metadata": {
            "tags": []
          },
          "execution_count": 51
        }
      ]
    },
    {
      "cell_type": "code",
      "metadata": {
        "id": "s94XhA5SVk1F",
        "colab_type": "code",
        "colab": {
          "base_uri": "https://localhost:8080/",
          "height": 104
        },
        "outputId": "0c263fb4-e3d0-4b46-b964-881605e967f2"
      },
      "source": [
        "# Copy and Views\n",
        "# Shares memory\n",
        "\n",
        "a = np.linspace(2, 6, 8)\n",
        "b = a[0:5:2]\n",
        "print(a, b)\n",
        "print(np.shares_memory(a,b))\n",
        "\n",
        "c = a[0:5:2].copy()\n",
        "print(c)\n",
        "print(np.shares_memory(a, c))"
      ],
      "execution_count": 58,
      "outputs": [
        {
          "output_type": "stream",
          "text": [
            "[2.         2.57142857 3.14285714 3.71428571 4.28571429 4.85714286\n",
            " 5.42857143 6.        ] [2.         3.14285714 4.28571429]\n",
            "True\n",
            "[2.         3.14285714 4.28571429]\n",
            "False\n"
          ],
          "name": "stdout"
        }
      ]
    },
    {
      "cell_type": "code",
      "metadata": {
        "id": "9CmT2mpsWPqy",
        "colab_type": "code",
        "colab": {
          "base_uri": "https://localhost:8080/",
          "height": 52
        },
        "outputId": "2423341c-8398-4b63-ab8a-61c3abeeda07"
      },
      "source": [
        "# Fancy indexing\n",
        "\n",
        "a = np.arange(10, 100, 10)\n",
        "\n",
        "# 1. mask\n",
        "mask = a%2 == 0\n",
        "print(a[mask])\n",
        "\n",
        "# 2. multiple index\n",
        "print(a[[0, 5, 7, 3]])"
      ],
      "execution_count": 62,
      "outputs": [
        {
          "output_type": "stream",
          "text": [
            "[10 20 30 40 50 60 70 80 90]\n",
            "[10 60 80 40]\n"
          ],
          "name": "stdout"
        }
      ]
    }
  ]
}