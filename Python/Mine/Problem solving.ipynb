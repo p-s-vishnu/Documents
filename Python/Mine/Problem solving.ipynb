{
  "nbformat": 4,
  "nbformat_minor": 0,
  "metadata": {
    "colab": {
      "name": "Problem solving.ipynb",
      "version": "0.3.2",
      "provenance": []
    },
    "language_info": {
      "codemirror_mode": {
        "name": "ipython",
        "version": 3
      },
      "file_extension": ".py",
      "mimetype": "text/x-python",
      "name": "python",
      "nbconvert_exporter": "python",
      "pygments_lexer": "ipython3",
      "version": "3.7.2"
    },
    "kernelspec": {
      "display_name": "Python 3",
      "language": "python",
      "name": "python3"
    }
  },
  "cells": [
    {
      "cell_type": "code",
      "metadata": {
        "id": "gy8bZ29YrVry",
        "colab_type": "code",
        "colab": {}
      },
      "source": [
        "# Order of complexity\n",
        "import numpy as np"
      ],
      "execution_count": 0,
      "outputs": []
    },
    {
      "cell_type": "code",
      "metadata": {
        "id": "TFFR4gzGqcgT",
        "colab_type": "code",
        "colab": {}
      },
      "source": [
        "# random shuffle\n",
        "\n",
        "l = np.array([2, 5, 8, 9, 0])\n",
        "np.random.shuffle(l)"
      ],
      "execution_count": 0,
      "outputs": []
    },
    {
      "cell_type": "code",
      "metadata": {
        "id": "wxC3DmXZstUV",
        "colab_type": "code",
        "colab": {
          "base_uri": "https://localhost:8080/",
          "height": 34
        },
        "outputId": "214fc03d-5407-4d5f-aee4-aa5be0c079da"
      },
      "source": [
        "l"
      ],
      "execution_count": 5,
      "outputs": [
        {
          "output_type": "execute_result",
          "data": {
            "text/plain": [
              "array([9, 8, 5, 2, 0])"
            ]
          },
          "metadata": {
            "tags": []
          },
          "execution_count": 5
        }
      ]
    },
    {
      "cell_type": "code",
      "metadata": {
        "id": "OcIIaMxlreNB",
        "colab_type": "code",
        "colab": {}
      },
      "source": [
        "# Binary search "
      ],
      "execution_count": 0,
      "outputs": []
    },
    {
      "cell_type": "code",
      "metadata": {
        "id": "kHtrjrKouWEV",
        "colab_type": "code",
        "colab": {}
      },
      "source": [
        "# Elements commnon in two lists"
      ],
      "execution_count": 0,
      "outputs": []
    }
  ]
}