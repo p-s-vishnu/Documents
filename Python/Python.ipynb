{
  "nbformat": 4,
  "nbformat_minor": 0,
  "metadata": {
    "colab": {
      "name": "Python.ipynb",
      "version": "0.3.2",
      "provenance": [],
      "collapsed_sections": []
    },
    "kernelspec": {
      "name": "python3",
      "display_name": "Python 3"
    }
  },
  "cells": [
    {
      "cell_type": "markdown",
      "metadata": {
        "id": "dn4i_Yp6tLun",
        "colab_type": "text"
      },
      "source": [
        "Topics\n",
        "\n",
        "- variable assignments, multiple asssignments, storage locations (id) , Multiline strings, indexing in strings (last index), slicing [:], mutable list, tuple, \n",
        "unordered sets, unordered dictionary, conversion of data types\n",
        "\n",
        "- Output FORMAT -- with index in format(), key value pair\n",
        "\n",
        "- Operators (other than normal, exponent, floor, modulo), logical operators, bitwise operators, \n",
        "\n",
        "- if-else (0 None and False) \n",
        "\n",
        "- while, for, break, continue\n",
        "\n",
        "- list: append, insert, remove,  extend, del, pop(index), reverse(), sorted,  count(), \n",
        "a in lst, list comprehension, matrix\n",
        "\n",
        "- tuple: initializing (two ways,) , nested tuple, slicing, deleting an elem,  sum(), max(), min()\n",
        "\n",
        "- sets: try indexing, add(), update( list, set), discard, remove, pop, clear, set operations, frozen sets\n",
        "\n",
        "- dictionary: unordered, same operations as before, dictionary methods - copy, formkeys(), items(), values(), *dir()*, \n"
      ]
    },
    {
      "cell_type": "code",
      "metadata": {
        "id": "x1I4b5hupwaN",
        "colab_type": "code",
        "colab": {}
      },
      "source": [
        "import keyword"
      ],
      "execution_count": 0,
      "outputs": []
    },
    {
      "cell_type": "code",
      "metadata": {
        "id": "qmL9ehrPp0Yk",
        "colab_type": "code",
        "colab": {}
      },
      "source": [
        "'''\n",
        "These keyword cannot be used as an identifier - function, class or variable name\n",
        "'''\n",
        "keywords = keyword.kwlist\n",
        "\n",
        "print(len(keywords),'\\n',type(keywords),'\\n',keywords)"
      ],
      "execution_count": 0,
      "outputs": []
    },
    {
      "cell_type": "code",
      "metadata": {
        "id": "PbiZyggZsAmJ",
        "colab_type": "code",
        "outputId": "49420a68-6918-4976-b701-4bd742bf2e48",
        "colab": {
          "base_uri": "https://localhost:8080/",
          "height": 34
        }
      },
      "source": [
        "'''\n",
        "Multiline symbols\n",
        "'''\n",
        "\n",
        "a = 1 + 2 - 3 \\\n",
        "    + 4 - 16\n",
        "\n",
        "a"
      ],
      "execution_count": 0,
      "outputs": [
        {
          "output_type": "execute_result",
          "data": {
            "text/plain": [
              "-12"
            ]
          },
          "metadata": {
            "tags": []
          },
          "execution_count": 8
        }
      ]
    },
    {
      "cell_type": "code",
      "metadata": {
        "id": "rsQf06D_uYJw",
        "colab_type": "code",
        "colab": {}
      },
      "source": [
        "## Complex numbers\n",
        "\n",
        "a = 1 + 2j\n",
        "print('is \"a\"'' a complex number?')\n",
        "print(isinstance(a, complex))\n",
        "type(a)"
      ],
      "execution_count": 0,
      "outputs": []
    },
    {
      "cell_type": "code",
      "metadata": {
        "id": "itmvE8s4wi-x",
        "colab_type": "code",
        "outputId": "ef554c4f-3184-44b4-b30b-84564c272e5b",
        "colab": {
          "base_uri": "https://localhost:8080/",
          "height": 34
        }
      },
      "source": [
        "# Why as sets unordered\n",
        "\"\"\"\n",
        "We cannot index a set - TypeError\n",
        "\"\"\"\n",
        "small_set = {20, 30, 20, 10, 27}\n",
        "small_set\n",
        "\n",
        "# small_set[0]"
      ],
      "execution_count": 0,
      "outputs": [
        {
          "output_type": "execute_result",
          "data": {
            "text/plain": [
              "{10, 20, 27, 30}"
            ]
          },
          "metadata": {
            "tags": []
          },
          "execution_count": 17
        }
      ]
    },
    {
      "cell_type": "code",
      "metadata": {
        "id": "Ek-Jp85Q0E1l",
        "colab_type": "code",
        "outputId": "0c23f36a-669c-4e3d-9d40-47b20e14a501",
        "colab": {
          "base_uri": "https://localhost:8080/",
          "height": 52
        }
      },
      "source": [
        "name= input('Enter your name')\n",
        "name"
      ],
      "execution_count": 0,
      "outputs": [
        {
          "output_type": "stream",
          "text": [
            "Enter your namea\n"
          ],
          "name": "stdout"
        },
        {
          "output_type": "execute_result",
          "data": {
            "text/plain": [
              "'a'"
            ]
          },
          "metadata": {
            "tags": []
          },
          "execution_count": 20
        }
      ]
    },
    {
      "cell_type": "code",
      "metadata": {
        "id": "1HuSzsmY2aCA",
        "colab_type": "code",
        "outputId": "ed78e836-c046-4efc-f7ea-15db54a36f55",
        "colab": {
          "base_uri": "https://localhost:8080/",
          "height": 34
        }
      },
      "source": [
        "# XOR\n",
        "b = 2\n",
        "b^6"
      ],
      "execution_count": 0,
      "outputs": [
        {
          "output_type": "execute_result",
          "data": {
            "text/plain": [
              "4"
            ]
          },
          "metadata": {
            "tags": []
          },
          "execution_count": 23
        }
      ]
    },
    {
      "cell_type": "code",
      "metadata": {
        "id": "tqfmHyZx4eQz",
        "colab_type": "code",
        "outputId": "4111a41a-559b-4932-9e2e-a6c32ae48643",
        "colab": {
          "base_uri": "https://localhost:8080/",
          "height": 34
        }
      },
      "source": [
        "'''Membership operators'''\n",
        "\n",
        "b_list = ['a', 2, 3.0, False, 2+8j]\n",
        "b in b_list"
      ],
      "execution_count": 0,
      "outputs": [
        {
          "output_type": "execute_result",
          "data": {
            "text/plain": [
              "True"
            ]
          },
          "metadata": {
            "tags": []
          },
          "execution_count": 29
        }
      ]
    },
    {
      "cell_type": "code",
      "metadata": {
        "id": "A8m6nCzJpwlR",
        "colab_type": "code",
        "colab": {
          "base_uri": "https://localhost:8080/",
          "height": 34
        },
        "outputId": "4798f879-9e39-4ec3-9cf6-c40085951981"
      },
      "source": [
        "# List methods\n",
        "a1 = [1, 3, 6, 8]\n",
        "a2 = [2, 4, 6, 8]\n",
        "\n",
        "b1 = a1 + a2\n",
        "b1"
      ],
      "execution_count": 8,
      "outputs": [
        {
          "output_type": "execute_result",
          "data": {
            "text/plain": [
              "[1, 3, 6, 8, 2, 4, 6, 8]"
            ]
          },
          "metadata": {
            "tags": []
          },
          "execution_count": 8
        }
      ]
    },
    {
      "cell_type": "code",
      "metadata": {
        "id": "BKT7cBRIp-Yc",
        "colab_type": "code",
        "colab": {
          "base_uri": "https://localhost:8080/",
          "height": 34
        },
        "outputId": "855bea2c-3a50-4f19-f3a2-d946566b8404"
      },
      "source": [
        "a1.extend(a2)\n",
        "# del a1[4:]"
      ],
      "execution_count": 7,
      "outputs": [
        {
          "output_type": "execute_result",
          "data": {
            "text/plain": [
              "[1, 3, 6, 8]"
            ]
          },
          "metadata": {
            "tags": []
          },
          "execution_count": 7
        }
      ]
    },
    {
      "cell_type": "code",
      "metadata": {
        "id": "GeeaLd_yrG4S",
        "colab_type": "code",
        "colab": {
          "base_uri": "https://localhost:8080/",
          "height": 52
        },
        "outputId": "fa44f4c2-c624-4bd1-9915-922b131c8db7"
      },
      "source": [
        "lst = [23, 43, 22, 38]\n",
        "abc = lst\n",
        "\n",
        "print(id(lst))\n",
        "print(id(abc))\n"
      ],
      "execution_count": 9,
      "outputs": [
        {
          "output_type": "stream",
          "text": [
            "140243891935624\n",
            "140243891935624\n"
          ],
          "name": "stdout"
        }
      ]
    },
    {
      "cell_type": "code",
      "metadata": {
        "id": "DX_9S9wArknw",
        "colab_type": "code",
        "colab": {
          "base_uri": "https://localhost:8080/",
          "height": 34
        },
        "outputId": "18a307b3-4ab3-4056-e38c-369feb98b3c3"
      },
      "source": [
        "# Split()\n",
        "space_txt = \"This is                great\"\n",
        "\n",
        "print(space_txt.split())"
      ],
      "execution_count": 10,
      "outputs": [
        {
          "output_type": "stream",
          "text": [
            "['This', 'is', 'great']\n"
          ],
          "name": "stdout"
        }
      ]
    },
    {
      "cell_type": "code",
      "metadata": {
        "id": "NRNQ3lq_sLUj",
        "colab_type": "code",
        "colab": {
          "base_uri": "https://localhost:8080/",
          "height": 69
        },
        "outputId": "33eca1b5-3f5d-426f-f7cc-10fb3c8bfe7f"
      },
      "source": [
        "step = [23, 12, 45, 75, 20]\n",
        "print(step)\n",
        "\n",
        "print(step[-1:-6:-1])\n",
        "\n",
        "print(step[::-1])"
      ],
      "execution_count": 20,
      "outputs": [
        {
          "output_type": "stream",
          "text": [
            "[23, 12, 45, 75, 20]\n",
            "[20, 75, 45, 12, 23]\n",
            "[20, 75, 45, 12, 23]\n"
          ],
          "name": "stdout"
        }
      ]
    },
    {
      "cell_type": "markdown",
      "metadata": {
        "id": "JASKhYR7wEJr",
        "colab_type": "text"
      },
      "source": [
        "### WRITE TRANSPOSE also with list comprehension?"
      ]
    },
    {
      "cell_type": "code",
      "metadata": {
        "id": "zR_MwBJVusmj",
        "colab_type": "code",
        "colab": {
          "base_uri": "https://localhost:8080/",
          "height": 34
        },
        "outputId": "45825bd5-6a1b-4475-b7ee-93d76342727d"
      },
      "source": [
        "# Can you edit a list inside a tuple\n",
        "\n",
        "tup = ('1', 1, [1,2,3])\n",
        "print(tup)\n",
        "tup[2][0] = 0"
      ],
      "execution_count": 26,
      "outputs": [
        {
          "output_type": "stream",
          "text": [
            "('1', 1, [1, 2, 3])\n"
          ],
          "name": "stdout"
        }
      ]
    },
    {
      "cell_type": "code",
      "metadata": {
        "id": "pzVITAV3yLr-",
        "colab_type": "code",
        "colab": {
          "base_uri": "https://localhost:8080/",
          "height": 34
        },
        "outputId": "782acc29-4649-4c74-8d19-345fddeafdfb"
      },
      "source": [
        "tup"
      ],
      "execution_count": 27,
      "outputs": [
        {
          "output_type": "execute_result",
          "data": {
            "text/plain": [
              "('1', 1, [0, 2, 3])"
            ]
          },
          "metadata": {
            "tags": []
          },
          "execution_count": 27
        }
      ]
    },
    {
      "cell_type": "code",
      "metadata": {
        "id": "3M1jgwefyPlL",
        "colab_type": "code",
        "colab": {
          "base_uri": "https://localhost:8080/",
          "height": 34
        },
        "outputId": "9f916479-aea2-4422-8a5b-56669870c38b"
      },
      "source": [
        "tup[:2]"
      ],
      "execution_count": 28,
      "outputs": [
        {
          "output_type": "execute_result",
          "data": {
            "text/plain": [
              "('1', 1)"
            ]
          },
          "metadata": {
            "tags": []
          },
          "execution_count": 28
        }
      ]
    },
    {
      "cell_type": "code",
      "metadata": {
        "id": "qKu1MmHB02ra",
        "colab_type": "code",
        "colab": {
          "base_uri": "https://localhost:8080/",
          "height": 191
        },
        "outputId": "703b71c4-9bdb-443a-a579-83d371ad34b8"
      },
      "source": [
        "# Set operations\n",
        "\n",
        "seta = {1, 9, 3, 0}\n",
        "setb = {2, 3, 7}\n",
        "\n",
        "print(seta | setb)\n",
        "print(seta.union(setb))\n",
        "\n",
        "print(seta & setb)\n",
        "print(seta.intersection(setb))\n",
        "\n",
        "print(seta - setb)\n",
        "print(seta.difference(setb))\n",
        "\n",
        "print(seta ^ setb)\n",
        "print(seta.symmetric_difference(setb))\n",
        "\n",
        "seta.update([11,14,16], [3,5,6])\n",
        "print(seta)\n",
        "seta.add(12)\n",
        "print(seta)"
      ],
      "execution_count": 39,
      "outputs": [
        {
          "output_type": "stream",
          "text": [
            "{0, 1, 2, 3, 7, 9}\n",
            "{0, 1, 2, 3, 7, 9}\n",
            "{3}\n",
            "{3}\n",
            "{0, 1, 9}\n",
            "{0, 1, 9}\n",
            "{0, 1, 2, 7, 9}\n",
            "{0, 1, 2, 7, 9}\n",
            "{0, 1, 3, 5, 6, 9, 11, 14, 16}\n",
            "{0, 1, 3, 5, 6, 9, 11, 12, 14, 16}\n"
          ],
          "name": "stdout"
        }
      ]
    },
    {
      "cell_type": "code",
      "metadata": {
        "id": "GeI2PqTo3Isi",
        "colab_type": "code",
        "colab": {
          "base_uri": "https://localhost:8080/",
          "height": 34
        },
        "outputId": "498b8dd6-4a22-4f02-87a5-fcb099ced314"
      },
      "source": [
        "setb.issubset(seta)"
      ],
      "execution_count": 40,
      "outputs": [
        {
          "output_type": "execute_result",
          "data": {
            "text/plain": [
              "False"
            ]
          },
          "metadata": {
            "tags": []
          },
          "execution_count": 40
        }
      ]
    },
    {
      "cell_type": "markdown",
      "metadata": {
        "id": "RLGv6ITO5VLT",
        "colab_type": "text"
      },
      "source": [
        "### Why dictionary are fast?"
      ]
    },
    {
      "cell_type": "code",
      "metadata": {
        "id": "EAzkRrnO5Zaj",
        "colab_type": "code",
        "colab": {
          "base_uri": "https://localhost:8080/",
          "height": 52
        },
        "outputId": "d76daca8-3891-4c6a-a510-d05cd9696434"
      },
      "source": [
        "d = {0:1, 'b':2}\n",
        "\n",
        "print(d[0])\n",
        "\n",
        "print(d.get('c'))"
      ],
      "execution_count": 45,
      "outputs": [
        {
          "output_type": "stream",
          "text": [
            "1\n",
            "None\n"
          ],
          "name": "stdout"
        }
      ]
    },
    {
      "cell_type": "code",
      "metadata": {
        "id": "d0WWih3m5_0y",
        "colab_type": "code",
        "colab": {
          "base_uri": "https://localhost:8080/",
          "height": 52
        },
        "outputId": "fe9b53e1-b779-4268-d5c4-75791fc4725f"
      },
      "source": [
        "for a in d:\n",
        "  print(a)"
      ],
      "execution_count": 48,
      "outputs": [
        {
          "output_type": "stream",
          "text": [
            "0\n",
            "b\n"
          ],
          "name": "stdout"
        }
      ]
    },
    {
      "cell_type": "code",
      "metadata": {
        "id": "uCjAT3UM7TZ-",
        "colab_type": "code",
        "colab": {
          "base_uri": "https://localhost:8080/",
          "height": 173
        },
        "outputId": "1925275d-35a3-4609-dfd0-2d8626e64409"
      },
      "source": [
        "help(isinstance)"
      ],
      "execution_count": 52,
      "outputs": [
        {
          "output_type": "stream",
          "text": [
            "Help on built-in function isinstance in module builtins:\n",
            "\n",
            "isinstance(obj, class_or_tuple, /)\n",
            "    Return whether an object is an instance of a class or of a subclass thereof.\n",
            "    \n",
            "    A tuple, as in ``isinstance(x, (A, B, ...))``, may be given as the target to\n",
            "    check against. This is equivalent to ``isinstance(x, A) or isinstance(x, B)\n",
            "    or ...`` etc.\n",
            "\n"
          ],
          "name": "stdout"
        }
      ]
    },
    {
      "cell_type": "code",
      "metadata": {
        "id": "NqrDR-VM7AY4",
        "colab_type": "code",
        "colab": {}
      },
      "source": [
        "new_d = { k:v for k, v in d.items() if isinstance(k, int) }"
      ],
      "execution_count": 0,
      "outputs": []
    },
    {
      "cell_type": "code",
      "metadata": {
        "id": "XiSZF1DS7eKs",
        "colab_type": "code",
        "colab": {
          "base_uri": "https://localhost:8080/",
          "height": 34
        },
        "outputId": "3921b395-4f67-4f61-fc14-0f5f4b9a5dba"
      },
      "source": [
        "new_d.items()"
      ],
      "execution_count": 62,
      "outputs": [
        {
          "output_type": "execute_result",
          "data": {
            "text/plain": [
              "dict_items([(0, 1)])"
            ]
          },
          "metadata": {
            "tags": []
          },
          "execution_count": 62
        }
      ]
    },
    {
      "cell_type": "code",
      "metadata": {
        "id": "tQlYEKo974A7",
        "colab_type": "code",
        "colab": {}
      },
      "source": [
        ""
      ],
      "execution_count": 0,
      "outputs": []
    }
  ]
}