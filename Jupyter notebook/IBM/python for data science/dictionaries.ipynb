{
  "cells": [
    {
      "metadata": {
        "_uuid": "bc1fc0c4871172130a51e7c2d5058fdd34afccd8"
      },
      "cell_type": "markdown",
      "source": " <a href=\"https://www.bigdatauniversity.com\"><img src = \"https://ibm.box.com/shared/static/ugcqz6ohbvff804xp84y4kqnvvk3bq1g.png\" width = 300, align = \"center\"></a>\n\n<h1 align=center><font size = 5>Sets and Dictionaries</font></h1>"
    },
    {
      "metadata": {
        "_uuid": "4bf534873e3e8e549e4ed8925d7880625f8dd699"
      },
      "cell_type": "markdown",
      "source": "\n## Table of Contents\n\n\n<div class=\"alert alert-block alert-info\" style=\"margin-top: 20px\">\n\n<li><a href=\"#ref2\">Dictionaries</a></li>\n<br>\n<p></p>\nEstimated Time Needed: <strong>20 min</strong>\n</div>\n\n<hr>"
    },
    {
      "metadata": {
        "_uuid": "87b95c781c76279fb1fd6fc34658f4347cb43b07"
      },
      "cell_type": "markdown",
      "source": "<a id=\"ref2\"></a>\n<h2 align=center> Dictionaries  in Python  </h2>\n"
    },
    {
      "metadata": {
        "_uuid": "66453af18b5d67c801d6ab810f32a2bf2ba69be1"
      },
      "cell_type": "markdown",
      "source": "A dictionary consists of keys and values. It is helpful to compare a dictionary to a list. Instead of the numerical indexes such as a list, dictionaries have keys. These keys are labels that are used to access values within a dictionary."
    },
    {
      "metadata": {
        "_uuid": "812ec8caa35527959d98020e564f5d33ed302066"
      },
      "cell_type": "markdown",
      "source": "<a ><img src = \"https://ibm.box.com/shared/static/6tyznuwydogmtuv73o8l5g7xsb8o92h2.png\" width = 650, align = \"center\"></a>\n  <h4 align=center>  A  Comparison of a Dictionary to a list: Instead of the numerical indexes like a list, dictionaries have keys.\n  </h4> \n"
    },
    {
      "metadata": {
        "_uuid": "79ea517337ef6f950b6f542fe08d7f736cffc3f1"
      },
      "cell_type": "markdown",
      "source": " An example of a  Dictionary **Dict**:"
    },
    {
      "metadata": {
        "_uuid": "7ee0b4c6dce1a25100e82d3744bf50de7f2a39d0",
        "trusted": false,
        "collapsed": true
      },
      "cell_type": "code",
      "source": "Dict={\"key1\":1,\"key2\":\"2\",\"key3\":[3,3,3],\"key4\":(4,4,4),('key5'):5,(0,1):6}\nDict",
      "execution_count": null,
      "outputs": []
    },
    {
      "metadata": {
        "_uuid": "7f0693028d877930ec990621c21c02fd1c032ea8"
      },
      "cell_type": "markdown",
      "source": " The keys can be strings:"
    },
    {
      "metadata": {
        "_uuid": "8c817b9a8375a7f2f0ba1e02627c7de3c2b54bf6",
        "trusted": false,
        "collapsed": true
      },
      "cell_type": "code",
      "source": "Dict[\"key1\"]",
      "execution_count": null,
      "outputs": []
    },
    {
      "metadata": {
        "_uuid": "284cd0938f5b124add3edcc5bc522f66932ecc2f"
      },
      "cell_type": "markdown",
      "source": " Keys can also be any immutable object such as a tuple: "
    },
    {
      "metadata": {
        "_uuid": "f89f5c4ac85bfc768a37bd333c714a9449a33c06",
        "trusted": false,
        "collapsed": true
      },
      "cell_type": "code",
      "source": "Dict[(0,1)]",
      "execution_count": null,
      "outputs": []
    },
    {
      "metadata": {
        "_uuid": "50099b53ffd4a1a4393c171736f8b2e7b2dc3f8b"
      },
      "cell_type": "markdown",
      "source": " Each key is separated from its value by a colon \"**:**\".  Commas separate the items, and the whole dictionary is enclosed in curly braces. An empty dictionary without any items is written with just two curly braces, like this  \"**{}**\"."
    },
    {
      "metadata": {
        "_uuid": "0e8309375e812ed6ee47a4578cda94c9a543b351",
        "trusted": false,
        "collapsed": true
      },
      "cell_type": "code",
      "source": "release_year_dict = {\"Thriller\":\"1982\", \"Back in Black\":\"1980\", \\\n                    \"The Dark Side of the Moon\":\"1973\", \"The Bodyguard\":\"1992\", \\\n                    \"Bat Out of Hell\":\"1977\", \"Their Greatest Hits (1971-1975)\":\"1976\", \\\n                    \"Saturday Night Fever\":\"1977\", \"Rumours\":\"1977\"}\nrelease_year_dict",
      "execution_count": null,
      "outputs": []
    },
    {
      "metadata": {
        "_uuid": "4188058f45cfe8f3177d81038ee1b6a4e41604e3"
      },
      "cell_type": "markdown",
      "source": "In summary, like a list, a dictionary holds a sequence of elements. Each element is represented by a key and its corresponding value. Dictionaries are created with two curly braces containing keys and values separated by a colon. For every key, there can only be a single value, however,  multiple keys can hold the same value. Keys can only be strings, numbers, or tuples, but values can be any data type."
    },
    {
      "metadata": {
        "_uuid": "868d515c4f1b1fdb3f02b1f108740ff97f64e4e1"
      },
      "cell_type": "markdown",
      "source": "It is helpful to visualize the dictionary as a table, as in figure 9. The first column represents the keys, the second column represents the values.\n"
    },
    {
      "metadata": {
        "_uuid": "08819a111825fca4b1da1dbf62ef5712b0c72990"
      },
      "cell_type": "markdown",
      "source": " <a ><img src = \"https://ibm.box.com/shared/static/i45fppou18c3t0fuf2ikks48tod7chbl.png\" width = 650, align = \"center\"></a>\n  <h4 align=center> Figure 9: Table representing a Dictionary  \n\n  </h4> \n"
    },
    {
      "metadata": {
        "_uuid": "81eaed7e6f20b1335d3ecd8d4b88c11198c5416a"
      },
      "cell_type": "markdown",
      "source": "You will need this dictionary for the next two questions :"
    },
    {
      "metadata": {
        "_uuid": "debf075c3a90198e96a016b71a61f61d72e9de4c",
        "trusted": false,
        "collapsed": true
      },
      "cell_type": "code",
      "source": "soundtrack_dic = { \"The Bodyguard\":\"1992\", \"Saturday Night Fever\":\"1977\"}\nsoundtrack_dic ",
      "execution_count": null,
      "outputs": []
    },
    {
      "metadata": {
        "_uuid": "6c25373ab365f5a776c934851cc2a01f2642ba81"
      },
      "cell_type": "markdown",
      "source": "#### In the dictionary \"soundtrack_dict\" what are the keys ?"
    },
    {
      "metadata": {
        "collapsed": true,
        "_uuid": "6636338ad80655d2089b52b2dcf694715ac58f41",
        "trusted": false
      },
      "cell_type": "code",
      "source": "",
      "execution_count": null,
      "outputs": []
    },
    {
      "metadata": {
        "_uuid": "897eed2c00cf25eb16280308b0df8ff7ba11432e"
      },
      "cell_type": "markdown",
      "source": " <div align=\"right\">\n<a href=\"#Dict1\" class=\"btn btn-default\" data-toggle=\"collapse\">Click here for the solution</a>\n\n</div>\n<div id=\"Dict1\" class=\"collapse\">\n```\nThe Keys \"The Bodyguard\" and \"Saturday Night Fever\" \n```\n</div>"
    },
    {
      "metadata": {
        "_uuid": "f6015856be3834642b89c815ebb0542860b2795a"
      },
      "cell_type": "markdown",
      "source": "####  In the dictionary \"soundtrack_dict\" what are the values ?"
    },
    {
      "metadata": {
        "_uuid": "32073a4d6950c4ee91a992014c241bb30c57849e"
      },
      "cell_type": "markdown",
      "source": " <div align=\"right\">\n<a href=\"#Dict2\" class=\"btn btn-default\" data-toggle=\"collapse\">Click here for the solution</a>\n\n</div>\n<div id=\"Dict2\" class=\"collapse\">\n```\nThe values are \"1992\" and \"1977\"\n```\n</div>"
    },
    {
      "metadata": {
        "_uuid": "96a1fe27bb3cae357495cfdb31952ab41f830a19"
      },
      "cell_type": "markdown",
      "source": "You can retrieve the values based on the names:"
    },
    {
      "metadata": {
        "_uuid": "375e1ad5845ddf13d37ea686fe8a2e81e1a43e4b",
        "trusted": false,
        "collapsed": true
      },
      "cell_type": "code",
      "source": "release_year_dict['Thriller'] ",
      "execution_count": null,
      "outputs": []
    },
    {
      "metadata": {
        "_uuid": "fb1a9d47d6024171dc47f3cc42bc8b5ce1c093af"
      },
      "cell_type": "markdown",
      "source": "This corresponds to: \n"
    },
    {
      "metadata": {
        "_uuid": "752e08b0b51fadd6d578b9323775696a6bedb3f8"
      },
      "cell_type": "markdown",
      "source": " <a ><img src = \"https://ibm.box.com/shared/static/glbwz23cgjjxqi7rjxn7me5i16gan7h7.png\" width = 500, align = \"center\"></a>\n  <h4 align=center> \n Table used to represent accessing the value for \"Thriller\"   \n\n  </h4> \n"
    },
    {
      "metadata": {
        "_uuid": "94e3680fdbfdc7c3a8b5c2d11d138d348e26a622"
      },
      "cell_type": "markdown",
      "source": "Similarly for The Bodyguard     \n"
    },
    {
      "metadata": {
        "_uuid": "2388d32b20c06ac263e19e8e3cfccf47be4ed139",
        "trusted": false,
        "collapsed": true
      },
      "cell_type": "code",
      "source": "release_year_dict['The Bodyguard'] ",
      "execution_count": null,
      "outputs": []
    },
    {
      "metadata": {
        "_uuid": "150d82c8158f4051cfee4f6337774cdde1572020"
      },
      "cell_type": "markdown",
      "source": " <a ><img src = \"https://ibm.box.com/shared/static/6t7bu8jusckaskukwq1k0a3im5ltcpsn.png  \" width = 500, align = \"center\"></a>\n  <h4 align=center> \nAccessing the value for the \"The Bodyguard\"\n\n  </h4> \n\n\n"
    },
    {
      "metadata": {
        "_uuid": "17e87214d0b813866b7d5e039145843601fca7a2"
      },
      "cell_type": "markdown",
      "source": "Now let us retrieve the keys of the dictionary using the method **release_year_dict()**:"
    },
    {
      "metadata": {
        "_uuid": "78ac3788c9c2d8d28e88dc7b82b3dce6e187e2c4",
        "trusted": false,
        "collapsed": true
      },
      "cell_type": "code",
      "source": "release_year_dict.keys() ",
      "execution_count": null,
      "outputs": []
    },
    {
      "metadata": {
        "_uuid": "907fa0259c527b9f2dc6062887e692fceea6192d"
      },
      "cell_type": "markdown",
      "source": " You can retrieve the values using the method  **`values()`**:"
    },
    {
      "metadata": {
        "_uuid": "8826bdd91d9d75673a7ca032d3d7e54ae18d567f",
        "trusted": false,
        "collapsed": true
      },
      "cell_type": "code",
      "source": "release_year_dict.values() ",
      "execution_count": null,
      "outputs": []
    },
    {
      "metadata": {
        "_uuid": "930d2dc428be0594206ebcb10eba358c9347ff49"
      },
      "cell_type": "markdown",
      "source": "We can add an entry:"
    },
    {
      "metadata": {
        "_uuid": "ee7fd5256c29c70555dc7d59e4ec1f6d759ab675",
        "trusted": false,
        "collapsed": true
      },
      "cell_type": "code",
      "source": "release_year_dict['Graduation']='2007'\nrelease_year_dict",
      "execution_count": null,
      "outputs": []
    },
    {
      "metadata": {
        "_uuid": "5645679b7fcefb5e324d4053443a59f2e702fd2a"
      },
      "cell_type": "markdown",
      "source": "We can delete an entry:   "
    },
    {
      "metadata": {
        "_uuid": "01b460731d475dd029e256e59d77a8ac8bd98d06",
        "trusted": false,
        "collapsed": true
      },
      "cell_type": "code",
      "source": "del(release_year_dict['Thriller'])\ndel(release_year_dict['Graduation'])\nrelease_year_dict",
      "execution_count": null,
      "outputs": []
    },
    {
      "metadata": {
        "_uuid": "869126881b9c3b6e48991000d289c39c766094e1"
      },
      "cell_type": "markdown",
      "source": " We can verify if an element is in the dictionary: "
    },
    {
      "metadata": {
        "_uuid": "fce98931682246d7723ed9a58c4e4cd8c69e14f9",
        "trusted": false,
        "collapsed": true
      },
      "cell_type": "code",
      "source": "'The Bodyguard' in release_year_dict",
      "execution_count": null,
      "outputs": []
    },
    {
      "metadata": {
        "_uuid": "bb918f98e48cd900512442c8eddae19090db2ca3"
      },
      "cell_type": "markdown",
      "source": "#### The Albums 'Back in Black', 'The Bodyguard' and 'Thriller' have the following music recording sales in millions 50, 50 and 65 respectively:"
    },
    {
      "metadata": {
        "_uuid": "fcdfec0040bbf994f3d3c98a4ed6cb4dc2d469e0"
      },
      "cell_type": "markdown",
      "source": "##### a) Create a dictionary “album_sales_dict” where the keys are the album name and the sales in millions are the values. "
    },
    {
      "metadata": {
        "collapsed": true,
        "_uuid": "a27ea075d488e91824931f403f5cecd0867f1351",
        "trusted": false
      },
      "cell_type": "code",
      "source": "",
      "execution_count": null,
      "outputs": []
    },
    {
      "metadata": {
        "_uuid": "d88ba6b693367d20e46d15c0817cc86b061c3459"
      },
      "cell_type": "markdown",
      "source": "<div align=\"right\">\n<a href=\"#q9\" class=\"btn btn-default\" data-toggle=\"collapse\">Click here for the solution</a>\n\n</div>\n<div id=\"q9\" class=\"collapse\">\n```\nalbum_sales_dict= { \"The Bodyguard\":50, \"Back in Black\":50,\"Thriller\":65}\n```\n</div>"
    },
    {
      "metadata": {
        "_uuid": "1cb74d9ea4299a5421f992a13f1e6b5dc55ebc20"
      },
      "cell_type": "markdown",
      "source": "#### b) Use the dictionary to find the total sales of \"Thriller\":"
    },
    {
      "metadata": {
        "_uuid": "3a64e3ca314ff564ddf4c85a00a43fc93487636d",
        "trusted": false,
        "collapsed": true
      },
      "cell_type": "code",
      "source": "",
      "execution_count": null,
      "outputs": []
    },
    {
      "metadata": {
        "_uuid": "03567687d0a9515c6e1ebb49eb4ff339112a8ab3"
      },
      "cell_type": "markdown",
      "source": "<div align=\"right\">\n<a href=\"#q10b\" class=\"btn btn-default\" data-toggle=\"collapse\">Click here for the solution</a>\n\n</div>\n<div id=\"q10b\" class=\"collapse\">\n```\nalbum_sales_dict[\"Thriller\"]\n```\n</div>"
    },
    {
      "metadata": {
        "_uuid": "8111b79673ca69cd24370aa11d8cbd944c85536d"
      },
      "cell_type": "markdown",
      "source": "#### c) Find the names of the albums from the dictionary using the method \"keys\":"
    },
    {
      "metadata": {
        "_uuid": "e6f4c580e9877783477723591aba2121d167539a",
        "trusted": false,
        "collapsed": true
      },
      "cell_type": "code",
      "source": "",
      "execution_count": null,
      "outputs": []
    },
    {
      "metadata": {
        "_uuid": "8b305d5d6b12f72166e23a5e837a2e47ad3236fe"
      },
      "cell_type": "markdown",
      "source": "<div align=\"right\">\n<a href=\"#q10c\" class=\"btn btn-default\" data-toggle=\"collapse\">Click here for the solution</a>\n\n</div>\n<div id=\"q10c\" class=\"collapse\">\n```\nalbum_sales_dict.keys()\n```"
    },
    {
      "metadata": {
        "_uuid": "d28a620354f9035142ae622f1b39aef400c7f9aa"
      },
      "cell_type": "markdown",
      "source": "#### d) Find the names of the recording sales​ from the dictionary using the method \"values\":"
    },
    {
      "metadata": {
        "_uuid": "51b52836e1da0627ceeaf31ec5e266fe0145fe9d",
        "trusted": false,
        "collapsed": true
      },
      "cell_type": "code",
      "source": "",
      "execution_count": null,
      "outputs": []
    },
    {
      "metadata": {
        "_uuid": "bf1daea1d0de1e73ce3904e7806806f694fe4405"
      },
      "cell_type": "markdown",
      "source": "<div align=\"right\">\n<a href=\"#q10d\" class=\"btn btn-default\" data-toggle=\"collapse\">Click here for the solution</a>\n\n</div>\n<div id=\"q10d\" class=\"collapse\">\n```\nalbum_sales_dict.values()\n```\n</div>"
    },
    {
      "metadata": {
        "_uuid": "cf6d75b00fe68796fea4d7d3cfaca609566c9ba5"
      },
      "cell_type": "markdown",
      "source": " <a href=\"http://cocl.us/NotebooksPython101bottom\"><img src = \"https://ibm.box.com/shared/static/irypdxea2q4th88zu1o1tsd06dya10go.png\" width = 750, align = \"center\"></a>\n"
    },
    {
      "metadata": {
        "_uuid": "0bfa4ed3f9ab8dcb9a12c8e643d4ca09d51fa611"
      },
      "cell_type": "markdown",
      "source": "\n\n# About the Authors:  \n\n [Joseph Santarcangelo]( https://www.linkedin.com/in/joseph-s-50398b136/) has a PhD in Electrical Engineering, his research focused on using machine learning, signal processing, and computer vision to determine how videos impact human cognition. Joseph has been working for IBM since he completed his PhD.\n\n"
    },
    {
      "metadata": {
        "_uuid": "4584c2fcffd7ad0aab9df50411aa018c10db17f5"
      },
      "cell_type": "markdown",
      "source": " <hr>\nCopyright &copy; 2017 [cognitiveclass.ai](cognitiveclass.ai?utm_source=bducopyrightlink&utm_medium=dswb&utm_campaign=bdu). This notebook and its source code are released under the terms of the [MIT License](https://bigdatauniversity.com/mit-license/)."
    }
  ],
  "metadata": {
    "kernelspec": {
      "display_name": "Python 3",
      "language": "python",
      "name": "python3"
    },
    "language_info": {
      "name": "python",
      "version": "3.6.6",
      "mimetype": "text/x-python",
      "codemirror_mode": {
        "name": "ipython",
        "version": 3
      },
      "pygments_lexer": "ipython3",
      "nbconvert_exporter": "python",
      "file_extension": ".py"
    }
  },
  "nbformat": 4,
  "nbformat_minor": 1
}