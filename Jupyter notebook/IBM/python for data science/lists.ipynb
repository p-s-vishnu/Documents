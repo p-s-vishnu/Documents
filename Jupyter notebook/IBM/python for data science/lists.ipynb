{
  "cells": [
    {
      "metadata": {
        "_uuid": "ee926327fec35a9beb2dc339afb9985cc9e7b961"
      },
      "cell_type": "markdown",
      "source": " <a href=\"https://www.bigdatauniversity.com\"><img src = \"https://ibm.box.com/shared/static/ugcqz6ohbvff804xp84y4kqnvvk3bq1g.png\" width = 300, align = \"center\"></a>\n\n\n\n\n<h1 align=center><font size = 5>LISTS  IN PYTHON</font></h1>"
    },
    {
      "metadata": {
        "_uuid": "d2938f4459267ac73d4a59e0bf58c8f19ee0a5a7"
      },
      "cell_type": "markdown",
      "source": "\n## Table of Contents\n\n\n<div class=\"alert alert-block alert-info\" style=\"margin-top: 20px\">\n<li><a href=\"#ref0\">About the Dataset</a></li>\n<li><a href=\"#ref1\">Lists</a></li>\n<li><a href=\"#ref2\">Quiz</a></li>\n<br>\n<p></p>\nEstimated Time Needed: <strong>15 min</strong>\n</div>\n\n<hr>"
    },
    {
      "metadata": {
        "_uuid": "bab072d5da02cd608dfce78d820381c63bf5a9ed"
      },
      "cell_type": "markdown",
      "source": "<a id=\"ref0\"></a>\n<center><h2>About the Dataset</h2></center>"
    },
    {
      "metadata": {
        "_uuid": "1646eb8496d8471370e476fe5f0cf7a9f464cb10"
      },
      "cell_type": "markdown",
      "source": "Imagine you received many music recommendations from your friends and compiled all of the recommendations into a table, with specific information about each movie.\n\nThe table has one row for each album and several columns:\n\n- **artist** - Name of the artist\n- **album** - Name of the album\n- **released_year** - Year the album was released\n- **length_min_sec** - Length of the album (hours,minutes,seconds)\n- **genre** - Genre of the album\n- **music_recording_sales_millions** - Music recording sales (millions in USD) on [SONG://DATABASE](http://www.song-database.com/)\n- **claimed_sales_millions** - Album's claimed sales (millions in USD) on [SONG://DATABASE](http://www.song-database.com/)\n- **date_released** - Date on which the album was released\n- **soundtrack** - Indicates if the album is the movie soundtrack (Y) or (N)\n- **rating_of_friends** - Indicates the rating from your friends from 1 to 10\n<br>\n<br>\n\nThe dataset can be seen below:\n\n<font size=\"1\">\n<table font-size:xx-small style=\"width:25%\">\n  <tr>\n    <th>Artist</th>\n    <th>Album</th> \n    <th>Released</th>\n    <th>Length</th>\n    <th>Genre</th> \n    <th>Music recording sales (millions)</th>\n    <th>Claimed sales (millions)</th>\n    <th>Released</th>\n    <th>Soundtrack</th>\n    <th>Rating (friends)</th>\n  </tr>\n  <tr>\n    <td>Michael Jackson</td>\n    <td>Thriller</td> \n    <td>1982</td>\n    <td>00:42:19</td>\n    <td>Pop, rock, R&B</td>\n    <td>46</td>\n    <td>65</td>\n    <td>30-Nov-82</td>\n    <td></td>\n    <td>10.0</td>\n  </tr>\n  <tr>\n    <td>AC/DC</td>\n    <td>Back in Black</td> \n    <td>1980</td>\n    <td>00:42:11</td>\n    <td>Hard rock</td>\n    <td>26.1</td>\n    <td>50</td>\n    <td>25-Jul-80</td>\n    <td></td>\n    <td>8.5</td>\n  </tr>\n    <tr>\n    <td>Pink Floyd</td>\n    <td>The Dark Side of the Moon</td> \n    <td>1973</td>\n    <td>00:42:49</td>\n    <td>Progressive rock</td>\n    <td>24.2</td>\n    <td>45</td>\n    <td>01-Mar-73</td>\n    <td></td>\n    <td>9.5</td>\n  </tr>\n    <tr>\n    <td>Whitney Houston</td>\n    <td>The Bodyguard</td> \n    <td>1992</td>\n    <td>00:57:44</td>\n    <td>Soundtrack/R&B, soul, pop</td>\n    <td>26.1</td>\n    <td>50</td>\n    <td>25-Jul-80</td>\n    <td>Y</td>\n    <td>7.0</td>\n  </tr>\n    <tr>\n    <td>Meat Loaf</td>\n    <td>Bat Out of Hell</td> \n    <td>1977</td>\n    <td>00:46:33</td>\n    <td>Hard rock, progressive rock</td>\n    <td>20.6</td>\n    <td>43</td>\n    <td>21-Oct-77</td>\n    <td></td>\n    <td>7.0</td>\n  </tr>\n    <tr>\n    <td>Eagles</td>\n    <td>Their Greatest Hits (1971-1975)</td> \n    <td>1976</td>\n    <td>00:43:08</td>\n    <td>Rock, soft rock, folk rock</td>\n    <td>32.2</td>\n    <td>42</td>\n    <td>17-Feb-76</td>\n    <td></td>\n    <td>9.5</td>\n  </tr>\n    <tr>\n    <td>Bee Gees</td>\n    <td>Saturday Night Fever</td> \n    <td>1977</td>\n    <td>1:15:54</td>\n    <td>Disco</td>\n    <td>20.6</td>\n    <td>40</td>\n    <td>15-Nov-77</td>\n    <td>Y</td>\n    <td>9.0</td>\n  </tr>\n    <tr>\n    <td>Fleetwood Mac</td>\n    <td>Rumours</td> \n    <td>1977</td>\n    <td>00:40:01</td>\n    <td>Soft rock</td>\n    <td>27.9</td>\n    <td>40</td>\n    <td>04-Feb-77</td>\n    <td></td>\n    <td>9.5</td>\n  </tr>\n</table></font>"
    },
    {
      "metadata": {
        "_uuid": "adbd3226bf76d8c9f014edaeb318c8672834f725"
      },
      "cell_type": "markdown",
      "source": "<hr>"
    },
    {
      "metadata": {
        "_uuid": "f799fc040330b48b19e34deae3d05f8643894ea9"
      },
      "cell_type": "markdown",
      "source": "<a id=\"ref1\"></a>\n<center><h2>Lists</h2></center>\n\nWe are going to take a look at lists in Python. A list is a sequenced collection of different objects such as integers, strings, and other lists as well. The address of each element within a list is called an 'index'. An index is used to access and refer to items within a list.\n"
    },
    {
      "metadata": {
        "_uuid": "c2fd96dc4d94248c0c6c53f28ce707c2538a04ae"
      },
      "cell_type": "markdown",
      "source": "<a ><img src = \"https://ibm.box.com/shared/static/eln445fv5nzv3wlm4u8dnfhbrcrv0hff.png\" width = 1000, align = \"center\"></a>\n  <h4 align=center> Representation of a list  \n  </h4> \n\n\n\n"
    },
    {
      "metadata": {
        "_uuid": "9ca24a5a900a5eeac6605185f9e0f2492312929a"
      },
      "cell_type": "markdown",
      "source": " To create a list, type the list within square brackets **[ ]**, with your content inside the parenthesis and separated by commas. Let’s try it!"
    },
    {
      "metadata": {
        "_uuid": "4d0327c3bd9653a1fb45c8ffb32b0fa6d226be4b",
        "trusted": false,
        "collapsed": true
      },
      "cell_type": "code",
      "source": "L=[\"Michael Jackson\" , 10.1,1982]\nL",
      "execution_count": null,
      "outputs": []
    },
    {
      "metadata": {
        "_uuid": "24532d9e31c035876d9d7bd34c1d1277c0e81672"
      },
      "cell_type": "markdown",
      "source": "We can use negative and regular indexing with a list :"
    },
    {
      "metadata": {
        "_uuid": "5fc89f996c20f4906ffde1d18d76e2af6a436f4b"
      },
      "cell_type": "markdown",
      "source": " <a ><img src = \"https://ibm.box.com/shared/static/a7ac9lnvmcaz29n86ffez4as27fl3n9m.png\" width = 1000, align = \"center\"></a>\n  <h4 align=center> Representation of a list  \n  </h4> \n"
    },
    {
      "metadata": {
        "_uuid": "6e56420a59d9d77d936c91a8294f93029648368c",
        "trusted": false,
        "collapsed": true
      },
      "cell_type": "code",
      "source": "print('the same element using negative and positive indexing:\\n Postive:',L[0],\n'\\n Negative:' , L[-3]  )\nprint('the same element using negative and positive indexing:\\n Postive:',L[1],\n'\\n Negative:' , L[-2]  )\nprint('the same element using negative and positive indexing:\\n Postive:',L[2],\n'\\n Negative:' , L[-1]  )",
      "execution_count": null,
      "outputs": []
    },
    {
      "metadata": {
        "_uuid": "0f09720659b93b7b116d9a79f28a3d7bd7d52d5d"
      },
      "cell_type": "markdown",
      "source": "Lists can contain strings, floats, and integers. We can nest other lists, and we can also nest tuples and other data structures. The same indexing conventions apply for nesting:    \n"
    },
    {
      "metadata": {
        "_uuid": "c8e790fa63618aeb40de592672307d051cbcd126",
        "trusted": false,
        "collapsed": true
      },
      "cell_type": "code",
      "source": "[ \"Michael Jackson\", 10.1,1982,[1,2],(\"A\",1) ]\n",
      "execution_count": null,
      "outputs": []
    },
    {
      "metadata": {
        "_uuid": "0b2f82dad68a9774fc9981ada3bf3f89d5e6d4ea"
      },
      "cell_type": "markdown",
      "source": " We can also perform slicing in lists. For example, if we want the last two elements, we use the following command:"
    },
    {
      "metadata": {
        "_uuid": "10dc4814cdb87a3ffd0b4747de2f4abefb9ba6d2",
        "trusted": false,
        "collapsed": true
      },
      "cell_type": "code",
      "source": "L=[ \"Michael Jackson\", 10.1,1982,\"MJ\",1]\nL",
      "execution_count": null,
      "outputs": []
    },
    {
      "metadata": {
        "_uuid": "893fab4d7b58d8ba01073e1baf7ec4bd60055769"
      },
      "cell_type": "markdown",
      "source": "\n<a ><img src = \"https://ibm.box.com/shared/static/pt3pfp1sg5okwuwwpy0dnj8e94fl2mwy.png\" width = 1000, align = \"center\"></a>\n  <h4 align=center> Representation of a list  \n  </h4> "
    },
    {
      "metadata": {
        "_uuid": "758c60f95d836a6807365b92b01b2b89d03ce554",
        "trusted": false,
        "collapsed": true
      },
      "cell_type": "code",
      "source": "L[3:5]",
      "execution_count": null,
      "outputs": []
    },
    {
      "metadata": {
        "_uuid": "3316ab2e77be0979318d5955226862c9cc683d86"
      },
      "cell_type": "markdown",
      "source": "We can use the method \"extend\" to add new elements to the list:"
    },
    {
      "metadata": {
        "_uuid": "094ab64dc7021bc02f9c89e7303b943cc10f6b54",
        "trusted": false,
        "collapsed": true
      },
      "cell_type": "code",
      "source": "L=[ \"Michael Jackson\", 10.2]\nL.extend(['pop',10])\nL",
      "execution_count": null,
      "outputs": []
    },
    {
      "metadata": {
        "_uuid": "cbac586a52ca58f2e00981e93b152a30e2477606"
      },
      "cell_type": "markdown",
      "source": "Another similar method is 'appended'. If we apply 'appended' instead of 'extended', we add one element to the list:"
    },
    {
      "metadata": {
        "_uuid": "cda9662263370e972755fb35ca44fa18a8b0c766",
        "trusted": false,
        "collapsed": true
      },
      "cell_type": "code",
      "source": "L=[ \"Michael Jackson\", 10.2]\nL.append(['pop',10])\nL",
      "execution_count": null,
      "outputs": []
    },
    {
      "metadata": {
        "_uuid": "f3f36478138c807d15994952ab682f22bdb20671"
      },
      "cell_type": "markdown",
      "source": " Each time we apply a method, the list changes. If we apply \"extend\" we add two new elements to the list. The list **L** is then modified by adding two new elements:"
    },
    {
      "metadata": {
        "_uuid": "9257f52b73420ccfd4c65ee35df125258e2f90a4",
        "trusted": false,
        "collapsed": true
      },
      "cell_type": "code",
      "source": "L=[ \"Michael Jackson\", 10.2]\nL.extend(['pop',10])\nL",
      "execution_count": null,
      "outputs": []
    },
    {
      "metadata": {
        "_uuid": "e1745b59deb66a73ffb07812f78260b5b281bce8"
      },
      "cell_type": "markdown",
      "source": "If we append the list  **['a','b']** we have one new element consisting of a nested list:"
    },
    {
      "metadata": {
        "_uuid": "3af8e6b113450dc3d44f50ea53cf7e10b67e2d2c",
        "trusted": false,
        "collapsed": true
      },
      "cell_type": "code",
      "source": "L.append(['a','b'])\nL",
      "execution_count": null,
      "outputs": []
    },
    {
      "metadata": {
        "_uuid": "8e0e40b9bc46886e904f96a94c5120755eaef082"
      },
      "cell_type": "markdown",
      "source": "As lists are mutable, we can change them. For example, we can change the first element as follows:"
    },
    {
      "metadata": {
        "_uuid": "208805426059662d35515bf3a7385d907852b567",
        "trusted": false,
        "collapsed": true
      },
      "cell_type": "code",
      "source": "A=[\"disco\",10,1.2]\nprint('Before change:', A)\nA[0]='hard rock'\nprint('After change:', A)",
      "execution_count": null,
      "outputs": []
    },
    {
      "metadata": {
        "_uuid": "9c0118627e631652d6fe3e5b72fc3b0ddf4e0f5d"
      },
      "cell_type": "markdown",
      "source": " We can also delete an element of a list using the **del** command:"
    },
    {
      "metadata": {
        "_uuid": "6e31ac02b3a69fb752aa658e9e5ba7403c3ba5a5",
        "trusted": false,
        "collapsed": true
      },
      "cell_type": "code",
      "source": "print('Before change:', A)\ndel(A[0])\nprint('After change:', A)",
      "execution_count": null,
      "outputs": []
    },
    {
      "metadata": {
        "_uuid": "ab56ca4c0dbdf7de67b2208212987e0136853203"
      },
      "cell_type": "markdown",
      "source": " We can convert a string to a list using 'split'.  For example, the method **split** translates every group of characters separated by a space into an element in a list:\n"
    },
    {
      "metadata": {
        "_uuid": "240900b7740f5a334ea3d98b2b890419fe50191e",
        "trusted": false,
        "collapsed": true
      },
      "cell_type": "code",
      "source": "'hard rock'.split()\n",
      "execution_count": null,
      "outputs": []
    },
    {
      "metadata": {
        "_uuid": "72d8a15045187b3256cab57f9491ffda8290e5db"
      },
      "cell_type": "markdown",
      "source": "We can use the split function to separate strings on a specific character. We pass the character we would like to split on into the argument, which in this case is a comma.  The result is a list, and each element corresponds to a set of characters that have been separated by a comma: "
    },
    {
      "metadata": {
        "_uuid": "2d5c532283b89662939b5acafb07c67374de6d0c",
        "trusted": false,
        "collapsed": true
      },
      "cell_type": "code",
      "source": "'A,B,C,D'.split(',')\n",
      "execution_count": null,
      "outputs": []
    },
    {
      "metadata": {
        "_uuid": "97079746955a2ab3afc38e3428c94251d8598456"
      },
      "cell_type": "markdown",
      "source": " When we set one variable  **B** equal to **A**;  both **A** and **B** are referencing the same list in memory :"
    },
    {
      "metadata": {
        "_uuid": "48beef0eb2897758d0bd0f9cffb90a8878d585e1",
        "trusted": false,
        "collapsed": true
      },
      "cell_type": "code",
      "source": "A=[\"hard rock\",10,1.2]\nB=A\nprint('A:',A)\nprint('B:',B)",
      "execution_count": null,
      "outputs": []
    },
    {
      "metadata": {
        "_uuid": "f4dcc982b4f623f670fd3c9b1d1c302b24d55725"
      },
      "cell_type": "markdown",
      "source": " <a ><img src = 'https://ibm.box.com/shared/static/7g2u8hqqb4birdwn7m9uir4s9wfj8mko.png' width = 1000, align = \"center\"></a>\n  "
    },
    {
      "metadata": {
        "_uuid": "31cc7c39018124bcd6f00e013dad4f38a12df257"
      },
      "cell_type": "markdown",
      "source": " Initially, the value of the first element in ** B** is set as hard rock. If we change the first element in **A**  to 'banana', we get an unexpected side effect.  As **A** and **B ** are referencing the same list, if we change list **A**, then list **B** also changes.  If we check the first element of **B** we get banana instead of hard rock:"
    },
    {
      "metadata": {
        "_uuid": "2abae29225c86e4f4dc431c99d5bdf25e84be92a",
        "trusted": false,
        "collapsed": true
      },
      "cell_type": "code",
      "source": "print('B[0]:',B[0])\nA[0]=\"banana\"\nprint('B[0]:',B[0])",
      "execution_count": null,
      "outputs": []
    },
    {
      "metadata": {
        "_uuid": "cc32d57ef00deaee17297398779228c040104a0c"
      },
      "cell_type": "markdown",
      "source": "This is demonstrated in the following figure: "
    },
    {
      "metadata": {
        "_uuid": "812001b3d8803199ea6babb19332cca05c35459a"
      },
      "cell_type": "markdown",
      "source": " <a ><img src = https://ibm.box.com/shared/static/thdu6y5pzh99qpun4tu2fjvj86st0hbu.gif width = 1000, align = \"center\"></a>\n\n\n"
    },
    {
      "metadata": {
        "_uuid": "b08f7d14f44a5d29379a1d2130822c0beb5f5eb9"
      },
      "cell_type": "markdown",
      "source": "You can clone list  **A** by using  the following syntax:"
    },
    {
      "metadata": {
        "_uuid": "fc7f94544a692cf605d496ec2efb4799cf521097",
        "trusted": false,
        "collapsed": true
      },
      "cell_type": "code",
      "source": "B=A[:]\nB",
      "execution_count": null,
      "outputs": []
    },
    {
      "metadata": {
        "_uuid": "02dcf39e193623d1c13fddb2bd5cb014ac370e8d"
      },
      "cell_type": "markdown",
      "source": " Variable **B** references a new copy or clone of the original list; this is demonstrated in the following figure:"
    },
    {
      "metadata": {
        "_uuid": "7cb4370694351cd7bf252a86ecbf8008c6b16a6c"
      },
      "cell_type": "markdown",
      "source": "\n <a ><img src = https://ibm.box.com/shared/static/gwx86gaoeizqjvx7xj96cb8i9hn684ei.gif width = 1000, align = \"center\"></a>\n\n\n"
    },
    {
      "metadata": {
        "_uuid": "69b84fde2a0e0354445afc427efbb19885cf6050"
      },
      "cell_type": "markdown",
      "source": "Now if you change **A**, **B** will not change: \n"
    },
    {
      "metadata": {
        "_uuid": "7e863fc9767b3d0c9eeab05ac12c2848defa9d1a",
        "trusted": false,
        "collapsed": true
      },
      "cell_type": "code",
      "source": "print('B[0]:',B[0])\nA[0]=\"banana\"\nprint('B[0]:',B[0])",
      "execution_count": null,
      "outputs": []
    },
    {
      "metadata": {
        "collapsed": true,
        "_uuid": "5be693208cba223bc32ee0a2e8376f28ade7181a",
        "trusted": false
      },
      "cell_type": "code",
      "source": "",
      "execution_count": null,
      "outputs": []
    },
    {
      "metadata": {
        "_uuid": "7b7cc0deea75f8eef8535e01c827a6ab3e53daca"
      },
      "cell_type": "markdown",
      "source": " <a id=\"ref2\"></a>\n<center><h2>Quiz</h2></center>"
    },
    {
      "metadata": {
        "_uuid": "9f6977b2a1ddf287b9a823a626f9abcafac4568f"
      },
      "cell_type": "markdown",
      "source": "#### Create a list 'a_list' , with the following elements 1, “hello”, [1,2,3 ] and True. "
    },
    {
      "metadata": {
        "_uuid": "94f7963f88dfc2c430ba30169eaac12515adc522",
        "trusted": false,
        "collapsed": true
      },
      "cell_type": "code",
      "source": " ",
      "execution_count": null,
      "outputs": []
    },
    {
      "metadata": {
        "_uuid": "c7c85fa0f1b559ec2cc3d60a9be9d2f3936b6a09"
      },
      "cell_type": "markdown",
      "source": " <div align=\"right\">\n<a href=\"#q1\" class=\"btn btn-default\" data-toggle=\"collapse\">Click here for the solution</a>\n</div>\n<div id=\"q1\" class=\"collapse\">\n```\na_list=[1, 'hello', [1,2,3 ] , True]\na_list\n\n```\n</div>"
    },
    {
      "metadata": {
        "_uuid": "3e79d3f9d9876aefd1ea493552cc8e4fdcd04b4d"
      },
      "cell_type": "markdown",
      "source": "####  Find the value stored at index 1 of 'a_list'."
    },
    {
      "metadata": {
        "_uuid": "03d52414ce32057d4729329b8f85326c761c00dd",
        "trusted": false,
        "collapsed": true
      },
      "cell_type": "code",
      "source": "",
      "execution_count": null,
      "outputs": []
    },
    {
      "metadata": {
        "_uuid": "aee8c3a3d3a2b7fcdc9751c2eb6a269b832e4e5e"
      },
      "cell_type": "markdown",
      "source": " <div align=\"right\">\n<a href=\"#q2\" class=\"btn btn-default\" data-toggle=\"collapse\">Click here for the solution</a>\n</div>\n<div id=\"q2\" class=\"collapse\">\n```\na_list[1]\n\n\n```\n</div>"
    },
    {
      "metadata": {
        "_uuid": "c5e75a039cabbc3f55f6ecf1224c832b3a092a7b"
      },
      "cell_type": "markdown",
      "source": "####  Retrieve the elements stored at index 1,2, and 3 of 'a_list'."
    },
    {
      "metadata": {
        "_uuid": "ab63b0ff70c71b2a8ee76d559478c5b7333c97c1",
        "trusted": false,
        "collapsed": true
      },
      "cell_type": "code",
      "source": "",
      "execution_count": null,
      "outputs": []
    },
    {
      "metadata": {
        "_uuid": "74f0e517ef6eb1ff6bd835c4195f3b01250f7cf7"
      },
      "cell_type": "markdown",
      "source": " <div align=\"right\">\n<a href=\"#q3\" class=\"btn btn-default\" data-toggle=\"collapse\">Click here for the solution</a>\n</div>\n<div id=\"q3\" class=\"collapse\">\n```\na_list[1:3]\n\n```"
    },
    {
      "metadata": {
        "_uuid": "6b67ce5947f24e4897d58674c3bf89786c4039c5"
      },
      "cell_type": "markdown",
      "source": "#### 4) Concatenate the following lists A=[1,'a'] abd B=[2,1,'d']:"
    },
    {
      "metadata": {
        "collapsed": true,
        "_uuid": "15ad651f17d7e2c3615898078deee5e2fcfd15a9",
        "trusted": false
      },
      "cell_type": "code",
      "source": "",
      "execution_count": null,
      "outputs": []
    },
    {
      "metadata": {
        "_uuid": "8ddc84f8513cdd84fa1b9ef480be2a7765c44a7f"
      },
      "cell_type": "markdown",
      "source": " <div align=\"right\">\n<a href=\"#q4\" class=\"btn btn-default\" data-toggle=\"collapse\">Click here for the solution</a>\n</div>\n<div id=\"q4\" class=\"collapse\">\n```\nA=[1,'a'] \nB=[2,1,'d']\nA+B\n```"
    },
    {
      "metadata": {
        "_uuid": "eb14066b53baa608f4dc30346cb39c6a4463f658"
      },
      "cell_type": "markdown",
      "source": " <a href=\"http://cocl.us/NotebooksPython101bottom\"><img src = \"https://ibm.box.com/shared/static/irypdxea2q4th88zu1o1tsd06dya10go.png\" width = 750, align = \"center\"></a>\n"
    },
    {
      "metadata": {
        "_uuid": "30f6cdee36d5f688878adae70352a72fc2fc4c86"
      },
      "cell_type": "markdown",
      "source": "# About the Authors:  \n\n [Joseph Santarcangelo]( https://www.linkedin.com/in/joseph-s-50398b136/) has a PhD in Electrical Engineering, his research focused on using machine learning, signal processing, and computer vision to determine how videos impact \n ]human cognition. Joseph has been working for IBM since he completed his PhD.\n"
    },
    {
      "metadata": {
        "_uuid": "be8d0baa09dda91cbb15de5b3412cbce9c1ac9c0"
      },
      "cell_type": "markdown",
      "source": " <hr>\nCopyright &copy; 2017 [cognitiveclass.ai](cognitiveclass.ai?utm_source=bducopyrightlink&utm_medium=dswb&utm_campaign=bdu). This notebook and its source code are released under the terms of the [MIT License](https://bigdatauniversity.com/mit-license/).​"
    },
    {
      "metadata": {
        "collapsed": true,
        "_uuid": "3714dc3ac27af5b7d926e3ecdaccda20bcdf1ced",
        "trusted": false
      },
      "cell_type": "code",
      "source": "",
      "execution_count": null,
      "outputs": []
    }
  ],
  "metadata": {
    "language_info": {
      "name": "python",
      "version": "3.6.6",
      "mimetype": "text/x-python",
      "codemirror_mode": {
        "name": "ipython",
        "version": 3
      },
      "pygments_lexer": "ipython3",
      "nbconvert_exporter": "python",
      "file_extension": ".py"
    },
    "kernelspec": {
      "display_name": "Python 3",
      "language": "python",
      "name": "python3"
    }
  },
  "nbformat": 4,
  "nbformat_minor": 1
}