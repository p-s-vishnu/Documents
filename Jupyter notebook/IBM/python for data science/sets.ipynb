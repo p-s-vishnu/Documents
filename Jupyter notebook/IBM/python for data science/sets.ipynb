{
  "cells": [
    {
      "metadata": {
        "_uuid": "8cfe0690a55d0651ce9af5839d5bd492e271cca4"
      },
      "cell_type": "markdown",
      "source": [
        " <a href=\"https://www.bigdatauniversity.com\"><img src = \"https://ibm.box.com/shared/static/ugcqz6ohbvff804xp84y4kqnvvk3bq1g.png\" width = 300, align = \"center\"></a>\n",
        "\n",
        "<h1 align=center><font size = 5>Sets and Dictionaries</font></h1>"
      ]
    },
    {
      "metadata": {
        "_uuid": "29cdfa8027ab423470c19e9ce745cd4921a1640a"
      },
      "cell_type": "markdown",
      "source": [
        "\n",
        "## Table of Contents\n",
        "\n",
        "\n",
        "<div class=\"alert alert-block alert-info\" style=\"margin-top: 20px\">\n",
        "<li><a href=\"#ref1\">Sets</a></li>\n",
        "\n",
        "<br>\n",
        "<p></p>\n",
        "Estimated Time Needed: <strong>20 min</strong>\n",
        "</div>\n",
        "\n",
        "<hr>"
      ]
    },
    {
      "metadata": {
        "_uuid": "716c33706084a9867291e0b8a4fc9b39016f13f4"
      },
      "cell_type": "markdown",
      "source": [
        "<a id=\"ref1\"></a>\n",
        "<center><h2>Sets</h2></center>\n",
        "\n",
        "In this lab, we are going to take a look at sets in Python. A set is a unique collection of objects in Python. You can denote a set with a curly bracket **{}**. Python will remove duplicate items:\n"
      ]
    },
    {
      "metadata": {
        "collapsed": true,
        "_uuid": "d1ba0abc519296f83c167c0ff7642b5869a79702"
      },
      "cell_type": "code",
      "outputs": [],
      "source": [
        "set1={\"pop\", \"rock\", \"soul\", \"hard rock\", \"rock\", \"R&B\", \"rock\", \"disco\"}\n",
        "set1"
      ],
      "execution_count": null
    },
    {
      "metadata": {
        "_uuid": "b92fed46536a8b1aab7d426b99f7eb9b9f9a9c8a"
      },
      "cell_type": "markdown",
      "source": [
        "The process of mapping is illustrated in the figure:\n"
      ]
    },
    {
      "metadata": {
        "_uuid": "af8c759c9e3888b79add6005af595153a4c682cb"
      },
      "cell_type": "markdown",
      "source": [
        "<a ><img src = https://ibm.box.com/shared/static/i0xb9qbetek7kbh17krx05i4lqmywahm.png width = 1100, align = \"center\"></a>\n"
      ]
    },
    {
      "metadata": {
        "_uuid": "51731f02486fcaedea8030ecc76eb807b29ff895"
      },
      "cell_type": "markdown",
      "source": [
        " You can also  create a set from a list as follows:"
      ]
    },
    {
      "metadata": {
        "scrolled": true,
        "collapsed": true,
        "_uuid": "2ff4c43caf3800becb8bf025c14e66b0e90b7bab"
      },
      "cell_type": "code",
      "outputs": [],
      "source": [
        "album_list =[ \"Michael Jackson\", \"Thriller\", 1982, \"00:42:19\", \\\n",
        "              \"Pop, Rock, R&B\", 46.0, 65, \"30-Nov-82\", None, 10.0]\n",
        "\n",
        "album_set = set(album_list)             \n",
        "album_set"
      ],
      "execution_count": null
    },
    {
      "metadata": {
        "_uuid": "f081f2382c478405e0faac8297daabe053b84d29"
      },
      "cell_type": "markdown",
      "source": [
        "Now let us create a set of  genres:"
      ]
    },
    {
      "metadata": {
        "_uuid": "b588a803e16306acd18e27fec84dc2a46df14292"
      },
      "cell_type": "code",
      "outputs": [],
      "source": [
        "music_genres = set([\"pop\", \"pop\", \"rock\", \"folk rock\", \"hard rock\", \"soul\", \\\n",
        "                    \"progressive rock\", \"soft rock\", \"R&B\", \"disco\"])\n",
        "music_genres"
      ],
      "execution_count": 2
    },
    {
      "metadata": {
        "_uuid": "781d0a9834511b69984e6502af66e63c663d1106"
      },
      "cell_type": "markdown",
      "source": [
        "#### Convert the following list to a set ['rap','house','electronic music', 'rap']:"
      ]
    },
    {
      "metadata": {
        "_uuid": "95c0deeb017bcb0bbb31427cecebaf26bdbf57cb"
      },
      "cell_type": "code",
      "outputs": [],
      "source": [
        "new_music_genre = set(['rap','house','electronic music', 'rap'])\n",
        "new_music_genre"
      ],
      "execution_count": 4
    },
    {
      "metadata": {
        "_uuid": "51e3f44ad71619e00ff02e37029e538e4825f9fb"
      },
      "cell_type": "markdown",
      "source": [
        "Notice that the duplicates are removed and the output is sorted."
      ]
    },
    {
      "metadata": {
        "_uuid": "c7604636f8a6fa948ffdd1f7855b4e28d42f8ba9"
      },
      "cell_type": "markdown",
      "source": [
        "Let us get the sum of the claimed sales:"
      ]
    },
    {
      "metadata": {
        "_uuid": "88ea818e4adc2b998ec8428cbca7b2aada98fe70"
      },
      "cell_type": "markdown",
      "source": [
        "#### Consider the list A=[1,2,2,1] and set B=set([1,2,2,1]), does sum(A)=sum(B) "
      ]
    },
    {
      "metadata": {
        "collapsed": true,
        "_uuid": "8de4f540726526cde355e156f9713152378572c6"
      },
      "cell_type": "code",
      "outputs": [],
      "source": [],
      "execution_count": null
    },
    {
      "metadata": {
        "_uuid": "d9f89cc8719a0fff4c550e845957557c5243ffcc"
      },
      "cell_type": "markdown",
      "source": [
        " <div align=\"right\">\n",
        "<a href=\"#2\" class=\"btn btn-default\" data-toggle=\"collapse\">Click here for the solution</a>\n",
        "\n",
        "</div>\n",
        "<div id=\"2\" class=\"collapse\">\n",
        "```\n",
        "No, when casting a list to a set, the new set has no repeat elements. Run the following code to verify:\n",
        "A=[1,2,2,1]  \n",
        "B=set([1,2,2,1])\n",
        "print(\"the sum of A is:\",sum(A))\n",
        "print(\"the sum of B is:\",sum(B))\n",
        "```\n",
        "</div>\n"
      ]
    },
    {
      "metadata": {
        "_uuid": "06d46b95ea49a53f6425f59a72ae3194e3526569"
      },
      "cell_type": "markdown",
      "source": [
        "Now let's determine the average rating:"
      ]
    },
    {
      "metadata": {
        "_uuid": "9c1a67bfebc586e33bcdad8e05b91f7439fa4268"
      },
      "cell_type": "markdown",
      "source": [
        "### Set Operations "
      ]
    },
    {
      "metadata": {
        "_uuid": "1aec12b4d0cffceadd5196e0f90876de8065b830"
      },
      "cell_type": "markdown",
      "source": [
        " Let us go over Set Operations, as these can be used to change the set. Consider the set **A**:"
      ]
    },
    {
      "metadata": {
        "collapsed": true,
        "_uuid": "46a789972e2b52d8fad2d378028652e2a62cef75"
      },
      "cell_type": "code",
      "outputs": [],
      "source": [
        "A = set([\"Thriller\",\"Back in Black\", \"AC/DC\"] )\n",
        "A"
      ],
      "execution_count": null
    },
    {
      "metadata": {
        "_uuid": "d40271ac19dc330b37bee9897550efc2d1887262"
      },
      "cell_type": "markdown",
      "source": [
        " We can add an element to a set using the **add()** method: "
      ]
    },
    {
      "metadata": {
        "collapsed": true,
        "_uuid": "de7740ead5bc9ecb5b086149d569c0d95890ff95"
      },
      "cell_type": "code",
      "outputs": [],
      "source": [
        "A.add(\"NSYNC\")\n",
        "A"
      ],
      "execution_count": null
    },
    {
      "metadata": {
        "_uuid": "5a461af38aed61ed645bee35d5110ae1057c25d3"
      },
      "cell_type": "markdown",
      "source": [
        " If we add the same element twice, nothing will happen as there can be no duplicates in a set:\n"
      ]
    },
    {
      "metadata": {
        "collapsed": true,
        "_uuid": "46b010d3da8189d8fc242c61725f9ffad2ef0bd5"
      },
      "cell_type": "code",
      "outputs": [],
      "source": [
        "A.add(\"NSYNC\")\n",
        "A"
      ],
      "execution_count": null
    },
    {
      "metadata": {
        "_uuid": "9b3cb96c5fc03b679f974110e77238c23680b84c"
      },
      "cell_type": "markdown",
      "source": [
        " We can remove an item from a set using the remove method:"
      ]
    },
    {
      "metadata": {
        "collapsed": true,
        "_uuid": "73c14d5a2db16955a12560b30a86db62ea2b0865"
      },
      "cell_type": "code",
      "outputs": [],
      "source": [
        "A.remove(\"NSYNC\")\n",
        "A"
      ],
      "execution_count": null
    },
    {
      "metadata": {
        "_uuid": "117e908263b7c520cfe93834c2ff61481755258f"
      },
      "cell_type": "markdown",
      "source": [
        " We can verify if an element is in the set using the **in** command :"
      ]
    },
    {
      "metadata": {
        "collapsed": true,
        "_uuid": "5ab73b6c8711193b536c03dce9b8648b68b9bcaa"
      },
      "cell_type": "code",
      "outputs": [],
      "source": [
        "\"AC/DC\"  in A\n"
      ],
      "execution_count": null
    },
    {
      "metadata": {
        "_uuid": "345425fbea8aa47b7880a8f161a9740fcdfd29e8"
      },
      "cell_type": "markdown",
      "source": [
        "### Working with sets"
      ]
    },
    {
      "metadata": {
        "_uuid": "59af0f72a64441ab317bbd3ff9c0e874dc330c74"
      },
      "cell_type": "markdown",
      "source": [
        "Remember that with sets you can check the difference between sets, as well as the symmetric difference, intersection, and union:"
      ]
    },
    {
      "metadata": {
        "_uuid": "bfd05e7cc5778703900a6fe0adb833774944dadc"
      },
      "cell_type": "markdown",
      "source": [
        " Consider the following two sets:"
      ]
    },
    {
      "metadata": {
        "collapsed": true,
        "_uuid": "3d0b4a98e3dfb93c76c237784824552f79f04c23"
      },
      "cell_type": "code",
      "outputs": [],
      "source": [
        "album_set1 = set([\"Thriller\",'AC/DC', 'Back in Black'] )\n",
        "album_set2 = set([ \"AC/DC\",\"Back in Black\", \"The Dark Side of the Moon\"] )"
      ],
      "execution_count": null
    },
    {
      "metadata": {
        "_uuid": "10f9beb9b4371ef20334b13be3ee7e163d64e685"
      },
      "cell_type": "markdown",
      "source": [
        " <a ><img src = \"https://ibm.box.com/shared/static/bl6ijga6g8r7bdfkl17qw7zh62czte47.png\" width = 850, align = \"center\"></a>\n",
        "  <h4 align=center>  Visualizing the sets as two circles \n",
        " \n",
        "  </h4> "
      ]
    },
    {
      "metadata": {
        "scrolled": true,
        "collapsed": true,
        "_uuid": "b2b62446b9c2ee20a358702f5616cb5782a8379c"
      },
      "cell_type": "code",
      "outputs": [],
      "source": [
        "album_set1, album_set2"
      ],
      "execution_count": null
    },
    {
      "metadata": {
        "_uuid": "d0a737915438c3739c4fa65f97e3a4a51f56630a"
      },
      "cell_type": "markdown",
      "source": [
        " As both sets contain 'AC/DC' and 'Back in Black' we represent these common elements with the intersection of two circles.    \n"
      ]
    },
    {
      "metadata": {
        "_uuid": "3620dcb546bd6bc7d119f46458d3a053f6e60119"
      },
      "cell_type": "markdown",
      "source": [
        " <a ><img src = \"https://ibm.box.com/shared/static/7ttuf8otui4s6axm23csmb4s3pxz16y2.png\" width = 650, align = \"center\"></a>\n",
        "  <h4 align=center>  Visualizing common elements with the intersection of two circles.\n",
        " \n",
        "  </h4> "
      ]
    },
    {
      "metadata": {
        "_uuid": "a6e08482bb671c6befceb3d5f5eb277295b92702"
      },
      "cell_type": "markdown",
      "source": [
        "We can find the common elements of the sets as follows:"
      ]
    },
    {
      "metadata": {
        "collapsed": true,
        "_uuid": "ed8cb57a544b19253e54a26b9c4fb87e20fd3747"
      },
      "cell_type": "code",
      "outputs": [],
      "source": [
        "album_set_3=album_set1 & album_set2\n",
        "album_set_3"
      ],
      "execution_count": null
    },
    {
      "metadata": {
        "_uuid": "47ea98836dbad3b3f9bc61e84aeff90732a2ea13"
      },
      "cell_type": "markdown",
      "source": [
        "We can find all the elements that are only contained in **album_set1** using the **difference** method:"
      ]
    },
    {
      "metadata": {
        "collapsed": true,
        "_uuid": "f8acc99c76e701887541f4a1c1f941cf06b0700f"
      },
      "cell_type": "code",
      "outputs": [],
      "source": [
        "album_set1.difference(album_set2)  "
      ],
      "execution_count": null
    },
    {
      "metadata": {
        "_uuid": "04e7a05479846e0515bcf0151ab0ea483a2ac80f"
      },
      "cell_type": "markdown",
      "source": [
        "We only consider elements in **album_set1**; all the elements in **album_set2**, including the intersection, are not included.\n"
      ]
    },
    {
      "metadata": {
        "_uuid": "983fcf9275f8e76881812577a0127064a4b40c22"
      },
      "cell_type": "markdown",
      "source": [
        " <a ><img src = \"https://ibm.box.com/shared/static/osmxw1qnb5t9odon2cx94wxhfzlkn1n8.png\" width = 650, align = \"center\"></a>\n",
        "  <h4 align=center>  The difference of “album_set1” and   “album_set2\n",
        " \n",
        "  </h4> "
      ]
    },
    {
      "metadata": {
        "_uuid": "6842b1b79dd7191705c9bd210579cc8162b87f65"
      },
      "cell_type": "markdown",
      "source": [
        "The difference between **album_set2** and **album_set1** is given by:"
      ]
    },
    {
      "metadata": {
        "collapsed": true,
        "_uuid": "97faaffae33f00206492f4d365bf9e4b3c7816e9"
      },
      "cell_type": "code",
      "outputs": [],
      "source": [
        "album_set2.difference(album_set1)  "
      ],
      "execution_count": null
    },
    {
      "metadata": {
        "_uuid": "409c162975ccf6fe329a7cc7f0da74d8391e0e3c"
      },
      "cell_type": "markdown",
      "source": [
        "<a ><img src = \"https://ibm.box.com/shared/static/klgc09bgpsjudr9v3wtl8yk9s2lya3hl.png\" width = 650, align = \"center\"></a>\n",
        "  <h4 align=center>  The difference of **album_set2** and   **album_set1**\n",
        " \n",
        "  </h4> "
      ]
    },
    {
      "metadata": {
        "_uuid": "8f878ea867fcad980925cca23049c8cfbc531d49"
      },
      "cell_type": "markdown",
      "source": [
        "We can also find the intersection, i.e in both **album_list2** and **album_list1**, using the intersection command :"
      ]
    },
    {
      "metadata": {
        "collapsed": true,
        "_uuid": "dd52d352094c77678e9d484f7bf7a64a71706d18"
      },
      "cell_type": "code",
      "outputs": [],
      "source": [
        "album_set1.intersection(album_set2)   "
      ],
      "execution_count": null
    },
    {
      "metadata": {
        "_uuid": "eb5537416db151def1f28a11eb8a4a0e7af532f6"
      },
      "cell_type": "markdown",
      "source": [
        " This corresponds to the intersection of the two circles:"
      ]
    },
    {
      "metadata": {
        "_uuid": "bb8e1c044f699e75dbb6f35f4b3f989e9b868fcb"
      },
      "cell_type": "markdown",
      "source": [
        " <a ><img src = \"https://ibm.box.com/shared/static/s2xfytq43twp6jsvbvr4o2fir7wdablo.png\" width = 650, align = \"center\"></a>\n",
        "  <h4 align=center>  Intersection of set\n",
        " \n",
        "  </h4> "
      ]
    },
    {
      "metadata": {
        "_uuid": "b8e01d2ed0bea1e0ba109cfbe91d3886c8715d40"
      },
      "cell_type": "markdown",
      "source": [
        " The union corresponds to all the elements in both sets, which is represented by colouring  both circles:\n"
      ]
    },
    {
      "metadata": {
        "_uuid": "0aac3f665eeebc6030a527e2c2f9d6fa119e31ac"
      },
      "cell_type": "markdown",
      "source": [
        " <a ><img src = \"https://ibm.box.com/shared/static/vkczce5jh50g0oh53xn0ilgriflcrog0.png\" width = 650, align = \"center\"></a>\n",
        "  <h4 align=center> Figure 7:  Union of set\n",
        " \n",
        "  </h4> "
      ]
    },
    {
      "metadata": {
        "_uuid": "3124f9e6d316c45e016038a2529e81930fc3197a"
      },
      "cell_type": "markdown",
      "source": [
        " The union is given by:"
      ]
    },
    {
      "metadata": {
        "collapsed": true,
        "_uuid": "ba09f9fc5978f7e82632ac73c3159ca66b4078e0"
      },
      "cell_type": "code",
      "outputs": [],
      "source": [
        "album_set1.union(album_set2)"
      ],
      "execution_count": null
    },
    {
      "metadata": {
        "_uuid": "7684b9063a0a9b9da99622c6ee5a73de874e6e40"
      },
      "cell_type": "markdown",
      "source": [
        "And you can check if a set is a superset or subset of another set, respectively, like this:"
      ]
    },
    {
      "metadata": {
        "collapsed": true,
        "_uuid": "6468067cd7446e5fc386be0ec0971bee9ac6d5cc"
      },
      "cell_type": "code",
      "outputs": [],
      "source": [
        "set(album_set1).issuperset(album_set2)   "
      ],
      "execution_count": null
    },
    {
      "metadata": {
        "collapsed": true,
        "_uuid": "948c2b113459ccc82a7e90ce2d4bd15e98c8247e"
      },
      "cell_type": "code",
      "outputs": [],
      "source": [
        "set(album_set2).issubset(album_set1)     "
      ],
      "execution_count": null
    },
    {
      "metadata": {
        "_uuid": "663750013454a520eac0371b0732aa78ee6c504e"
      },
      "cell_type": "markdown",
      "source": [
        "Here is an example where **issubset()** is **issuperset()** is true:"
      ]
    },
    {
      "metadata": {
        "collapsed": true,
        "_uuid": "b2a850d80a8f3d5584da884c116960b6ce0d412d"
      },
      "cell_type": "code",
      "outputs": [],
      "source": [
        "set({\"Back in Black\", \"AC/DC\"}).issubset(album_set1) "
      ],
      "execution_count": null
    },
    {
      "metadata": {
        "collapsed": true,
        "_uuid": "ef916c994ebacad0132f51d22a3e896c83ef9aab"
      },
      "cell_type": "code",
      "outputs": [],
      "source": [
        "album_set1.issuperset({\"Back in Black\", \"AC/DC\"})   "
      ],
      "execution_count": null
    },
    {
      "metadata": {
        "_uuid": "8e8a5d2c68e4f658b9b00c5bd84c9617bc840d09"
      },
      "cell_type": "markdown",
      "source": [
        "#### Create a new set “album_set3” that is the union of “album_set1” and “album_set2”:"
      ]
    },
    {
      "metadata": {
        "collapsed": true,
        "_uuid": "173ea271d4fc9d8ee25e2122f46117426fe2700c"
      },
      "cell_type": "code",
      "outputs": [],
      "source": [],
      "execution_count": null
    },
    {
      "metadata": {
        "_uuid": "fd51a463af30fab573a4c92e131d6eaef373c3b7"
      },
      "cell_type": "markdown",
      "source": [
        "<div align=\"right\">\n",
        "<a href=\"#4\" class=\"btn btn-default\" data-toggle=\"collapse\">Click here for the solution</a>\n",
        "\n",
        "</div>\n",
        "<div id=\"4\" class=\"collapse\">\n",
        "```\n",
        "album_set3=album_set1.union(album_set2)\n",
        "album_set3\n",
        "```\n",
        "</div>"
      ]
    },
    {
      "metadata": {
        "_uuid": "13dff94ee3724243ae7087142ac5898146df9d95"
      },
      "cell_type": "markdown",
      "source": [
        "#### Find out if  \"album_set1\" is a subset of \"album_set3\":"
      ]
    },
    {
      "metadata": {
        "collapsed": true,
        "_uuid": "34f6a1f8907eed28b8923f0fb027cd813c9065b4"
      },
      "cell_type": "code",
      "outputs": [],
      "source": [],
      "execution_count": null
    },
    {
      "metadata": {
        "_uuid": "27e2738d6d051fe41e0374e549db5c2a4caa9fa4"
      },
      "cell_type": "markdown",
      "source": [
        " <div align=\"right\">\n",
        "<a href=\"#5\" class=\"btn btn-default\" data-toggle=\"collapse\">Click here for the solution</a>\n",
        "\n",
        "</div>\n",
        "<div id=\"5\" class=\"collapse\">\n",
        "```\n",
        "album_set1.issubset(album_set3)  \n",
        "\n",
        "```\n",
        "</div>"
      ]
    },
    {
      "metadata": {
        "_uuid": "c312225f8be1e1270a197a7d4d0ef46bebab9a84"
      },
      "cell_type": "markdown",
      "source": [
        " <a href=\"http://cocl.us/NotebooksPython101bottom\"><img src = \"https://ibm.box.com/shared/static/irypdxea2q4th88zu1o1tsd06dya10go.png\" width = 750, align = \"center\"></a>\n",
        "\n"
      ]
    },
    {
      "metadata": {
        "_uuid": "fc35a3009a7d0e3ddf5fe2cc6af23cb349baf159"
      },
      "cell_type": "markdown",
      "source": [
        "\n",
        "\n",
        "# About the Authors:  \n",
        "\n",
        " [Joseph Santarcangelo]( https://www.linkedin.com/in/joseph-s-50398b136/) has a PhD in Electrical Engineering, his research focused on using machine learning, signal processing, and computer vision to determine how videos impact human cognition. Joseph has been working for IBM since he completed his PhD.\n",
        "\n"
      ]
    },
    {
      "metadata": {
        "_uuid": "be270d77addca4340d65d128af2e47fb3a82ed8f"
      },
      "cell_type": "markdown",
      "source": [
        " <hr>\n",
        "Copyright &copy; 2017 [cognitiveclass.ai](cognitiveclass.ai?utm_source=bducopyrightlink&utm_medium=dswb&utm_campaign=bdu). This notebook and its source code are released under the terms of the [MIT License](https://bigdatauniversity.com/mit-license/)."
      ]
    }
  ],
  "metadata": {
    "kernelspec": {
      "display_name": "Python 3",
      "language": "python",
      "name": "python3"
    },
    "language_info": {
      "codemirror_mode": {
        "name": "ipython",
        "version": 3
      },
      "version": "3.6.4",
      "file_extension": ".py",
      "mimetype": "text/x-python",
      "name": "python",
      "pygments_lexer": "ipython3",
      "nbconvert_exporter": "python"
    }
  },
  "nbformat": 4,
  "nbformat_minor": 1
}