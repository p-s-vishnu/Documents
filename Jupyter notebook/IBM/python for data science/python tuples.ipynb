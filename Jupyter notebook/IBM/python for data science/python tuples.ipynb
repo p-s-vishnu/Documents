{
  "cells": [
    {
      "metadata": {
        "_uuid": "fca6815e12081ccb8df84000c8965c59783cd250"
      },
      "cell_type": "markdown",
      "source": " <a href=\"https://www.bigdatauniversity.com\"><img src = \"https://ibm.box.com/shared/static/ugcqz6ohbvff804xp84y4kqnvvk3bq1g.png\" width = 300, align = \"center\"></a>\n\n\n\n\n<h1 align=center><font size = 5>TUPLES IN PYTHON</font></h1>"
    },
    {
      "metadata": {
        "_uuid": "34ccf5303ea8b6d86848126a0648d44b2267b8bd"
      },
      "cell_type": "markdown",
      "source": "<a id=\"ref0\"></a>\n<center><h2>About the Dataset</h2></center>"
    },
    {
      "metadata": {
        "_uuid": "ae53d463acf63d10afd303716d269cafe6f24f52"
      },
      "cell_type": "markdown",
      "source": "\n## Table of Contents\n\n\n<div class=\"alert alert-block alert-info\" style=\"margin-top: 20px\">\n<li><a href=\"#ref0\">About the Dataset</a></li>\n<li><a href=\"#ref1\">Tuples</a></li>\n<li><a href=\"#ref2\">Quiz on Tuples</a></li>\n\n<p></p>\nEstimated Time Needed: <strong>15 min</strong>\n</div>\n\n<hr>"
    },
    {
      "metadata": {
        "_uuid": "1d819c67c9e8ed38a9d73fd6ebbed0c27a6f1b79"
      },
      "cell_type": "markdown",
      "source": "Imagine you received album recommendations from your friends and compiled all of the recomendations into a table, with specific information about each album.\n\nThe table has one row for each movie and several columns:\n\n- **artist** - Name of the artist\n- **album** - Name of the album\n- **released_year** - Year the album was released\n- **length_min_sec** - Length of the album (hours,minutes,seconds)\n- **genre** - Genre of the album\n- **music_recording_sales_millions** - Music recording sales (millions in USD) on [SONG://DATABASE](http://www.song-database.com/)\n- **claimed_sales_millions** - Album's claimed sales (millions in USD) on [SONG://DATABASE](http://www.song-database.com/)\n- **date_released** - Date on which the album was released\n- **soundtrack** - Indicates if the album is the movie soundtrack (Y) or (N)\n- **rating_of_friends** - Indicates the rating from your friends from 1 to 10\n<br>\n<br>\n\nThe dataset can be seen below:\n\n<font size=\"1\">\n<table font-size:xx-small style=\"width:25%\">\n  <tr>\n    <th>Artist</th>\n    <th>Album</th> \n    <th>Released</th>\n    <th>Length</th>\n    <th>Genre</th> \n    <th>Music recording sales (millions)</th>\n    <th>Claimed sales (millions)</th>\n    <th>Released</th>\n    <th>Soundtrack</th>\n    <th>Rating (friends)</th>\n  </tr>\n  <tr>\n    <td>Michael Jackson</td>\n    <td>Thriller</td> \n    <td>1982</td>\n    <td>00:42:19</td>\n    <td>Pop, rock, R&B</td>\n    <td>46</td>\n    <td>65</td>\n    <td>30-Nov-82</td>\n    <td></td>\n    <td>10.0</td>\n  </tr>\n  <tr>\n    <td>AC/DC</td>\n    <td>Back in Black</td> \n    <td>1980</td>\n    <td>00:42:11</td>\n    <td>Hard rock</td>\n    <td>26.1</td>\n    <td>50</td>\n    <td>25-Jul-80</td>\n    <td></td>\n    <td>8.5</td>\n  </tr>\n    <tr>\n    <td>Pink Floyd</td>\n    <td>The Dark Side of the Moon</td> \n    <td>1973</td>\n    <td>00:42:49</td>\n    <td>Progressive rock</td>\n    <td>24.2</td>\n    <td>45</td>\n    <td>01-Mar-73</td>\n    <td></td>\n    <td>9.5</td>\n  </tr>\n    <tr>\n    <td>Whitney Houston</td>\n    <td>The Bodyguard</td> \n    <td>1992</td>\n    <td>00:57:44</td>\n    <td>Soundtrack/R&B, soul, pop</td>\n    <td>26.1</td>\n    <td>50</td>\n    <td>25-Jul-80</td>\n    <td>Y</td>\n    <td>7.0</td>\n  </tr>\n    <tr>\n    <td>Meat Loaf</td>\n    <td>Bat Out of Hell</td> \n    <td>1977</td>\n    <td>00:46:33</td>\n    <td>Hard rock, progressive rock</td>\n    <td>20.6</td>\n    <td>43</td>\n    <td>21-Oct-77</td>\n    <td></td>\n    <td>7.0</td>\n  </tr>\n    <tr>\n    <td>Eagles</td>\n    <td>Their Greatest Hits (1971-1975)</td> \n    <td>1976</td>\n    <td>00:43:08</td>\n    <td>Rock, soft rock, folk rock</td>\n    <td>32.2</td>\n    <td>42</td>\n    <td>17-Feb-76</td>\n    <td></td>\n    <td>9.5</td>\n  </tr>\n    <tr>\n    <td>Bee Gees</td>\n    <td>Saturday Night Fever</td> \n    <td>1977</td>\n    <td>1:15:54</td>\n    <td>Disco</td>\n    <td>20.6</td>\n    <td>40</td>\n    <td>15-Nov-77</td>\n    <td>Y</td>\n    <td>9.0</td>\n  </tr>\n    <tr>\n    <td>Fleetwood Mac</td>\n    <td>Rumours</td> \n    <td>1977</td>\n    <td>00:40:01</td>\n    <td>Soft rock</td>\n    <td>27.9</td>\n    <td>40</td>\n    <td>04-Feb-77</td>\n    <td></td>\n    <td>9.5</td>\n  </tr>\n</table></font>"
    },
    {
      "metadata": {
        "_uuid": "e5a00e2992d2ec5d47aa0fca1f82175f88580a85"
      },
      "cell_type": "markdown",
      "source": "<hr>"
    },
    {
      "metadata": {
        "_uuid": "e3622d6f946d9a5c6ab1e30059c04999f4d1fe80"
      },
      "cell_type": "markdown",
      "source": "<a id=\"ref1\"></a>\n<center><h2>Tuples</h2></center>\n\nIn Python, there are different data types: string, integer and float. These data types can all be contained in a tuple as follows:\n\n"
    },
    {
      "metadata": {
        "_uuid": "c7c03d2491fc91ecdaf8be64903f5f70e0b7b707"
      },
      "cell_type": "markdown",
      "source": "<img src = \"https://ibm.box.com/shared/static/t2jw5ia78ulp8twr71j6q7055hykz10c.png\" width = 750, align = \"center\"></a>\n\n"
    },
    {
      "metadata": {
        "_uuid": "5852d099ebc147c96a7ec86340e145f2966117e3",
        "trusted": false,
        "collapsed": true
      },
      "cell_type": "code",
      "source": "tuple1=(\"disco\",10,1.2 )\ntuple1",
      "execution_count": null,
      "outputs": []
    },
    {
      "metadata": {
        "_uuid": "d7a66f8ed1910962bbef704cd086e2acf10af467"
      },
      "cell_type": "markdown",
      "source": "The type of variable is a **tuple**. "
    },
    {
      "metadata": {
        "_uuid": "f4d37878d46d015bbd8a93fc5780b56f4514fe6e",
        "trusted": false,
        "collapsed": true
      },
      "cell_type": "code",
      "source": " type(tuple1)",
      "execution_count": null,
      "outputs": []
    },
    {
      "metadata": {
        "_uuid": "73b1c2bf2e600160243047f5423937dc84366ecd"
      },
      "cell_type": "markdown",
      "source": " Each element of a tuple can be accessed via an index. The following table represents the relationship between the index and the items in the tuple. Each element can be obtained by the name of the tuple followed by a square bracket with the index number:"
    },
    {
      "metadata": {
        "_uuid": "025a156c475e7937becd6378bcdbd787ed014b37"
      },
      "cell_type": "markdown",
      "source": "<img src = \"https://ibm.box.com/shared/static/83kpang0opwen5e5gbwck6ktqw7btwoe.gif\" width = 750, align = \"center\"></a>\n\n"
    },
    {
      "metadata": {
        "_uuid": "68d2660fc8ae6a8bc708e5b05da43b48dbefe291"
      },
      "cell_type": "markdown",
      "source": "We can print out each value in the tuple:"
    },
    {
      "metadata": {
        "_uuid": "024dcf6114b584181383696cebc81c6f370e4aa9",
        "trusted": false,
        "collapsed": true
      },
      "cell_type": "code",
      "source": "print( tuple1[0])\nprint( tuple1[1])\nprint( tuple1[2])",
      "execution_count": null,
      "outputs": []
    },
    {
      "metadata": {
        "_uuid": "9b8a69db88b4c0f2e51c1d79af41c274dca90625"
      },
      "cell_type": "markdown",
      "source": "We can print out the **type** of each value in the tuple:\n"
    },
    {
      "metadata": {
        "_uuid": "787b639a5c059cd4e5fb1e376aea10c0d801fc0f",
        "trusted": false,
        "collapsed": true
      },
      "cell_type": "code",
      "source": "print( type(tuple1[0]))\nprint( type(tuple1[1]))\nprint( type(tuple1[2]))",
      "execution_count": null,
      "outputs": []
    },
    {
      "metadata": {
        "_uuid": "c82255f0dae6deb3a6995c4c2ac711bb418fd2fd"
      },
      "cell_type": "markdown",
      "source": "We can also use negative indexing. We use the same table above with corresponding negative values:"
    },
    {
      "metadata": {
        "_uuid": "6d8e776ce8d09dfa767a655e490dafeb1763f043"
      },
      "cell_type": "markdown",
      "source": " <img src = \"https://ibm.box.com/shared/static/uwlfzo367bekwg0p5s5odxlz7vhpojyj.png\" width = 750, align = \"center\"></a>\n"
    },
    {
      "metadata": {
        "_uuid": "30c99bd52490a1b1613d2847a2195d9f9820c221"
      },
      "cell_type": "markdown",
      "source": "We can obtain the last element as follows (this time we will not use the print statement to display the values):"
    },
    {
      "metadata": {
        "_uuid": "7930f19feb897f42ac79ce22f2844c992ade298b",
        "trusted": false,
        "collapsed": true
      },
      "cell_type": "code",
      "source": "tuple1[-1]",
      "execution_count": null,
      "outputs": []
    },
    {
      "metadata": {
        "_uuid": "0d8bfeac211c57f2ce206150c5ba8c50b83668c4"
      },
      "cell_type": "markdown",
      "source": "We can display the next two elements as follows:"
    },
    {
      "metadata": {
        "_uuid": "181d689b360e9552d36a7dba9f56222f847bfaa3",
        "trusted": false,
        "collapsed": true
      },
      "cell_type": "code",
      "source": "tuple1[-2]",
      "execution_count": null,
      "outputs": []
    },
    {
      "metadata": {
        "_uuid": "c45923783b76b83bd9e3d7e7845539ba317cd268",
        "trusted": false,
        "collapsed": true
      },
      "cell_type": "code",
      "source": "tuple1[-3]",
      "execution_count": null,
      "outputs": []
    },
    {
      "metadata": {
        "_uuid": "17450e3f24608116b23bd8e8797b73111827ead8"
      },
      "cell_type": "markdown",
      "source": "We can concatenate or combine tuples by using the **+** sign:"
    },
    {
      "metadata": {
        "_uuid": "4810be6d66feab44bf47dafdef958e77614f7de4",
        "trusted": false,
        "collapsed": true
      },
      "cell_type": "code",
      "source": "tuple2=tuple1+(\"hard rock\", 10)\ntuple2",
      "execution_count": null,
      "outputs": []
    },
    {
      "metadata": {
        "_uuid": "14e8d2d435d36232b20dc9d32f9d75f79d224acd"
      },
      "cell_type": "markdown",
      "source": "We can slice tuples obtaining multiple values as demonstrated by the figure below:"
    },
    {
      "metadata": {
        "_uuid": "d4fbba8f2bd700781baac0573d0cca4f83535002"
      },
      "cell_type": "markdown",
      "source": "<img src = \"https://ibm.box.com/shared/static/s9nofy728bcnsgnx3vh159bu16w7frnc.gif\" width = 750, align = \"center\"></a>\n"
    },
    {
      "metadata": {
        "_uuid": "04be7b596983167f3413c803e56cf8e57b0a97de"
      },
      "cell_type": "markdown",
      "source": "We can slice tuples, obtaining new tuples with the corresponding elements: "
    },
    {
      "metadata": {
        "_uuid": "5f7224b7bb23bb50322ef5cb947cea391b87c17c",
        "trusted": false,
        "collapsed": true
      },
      "cell_type": "code",
      "source": "tuple2[0:3]",
      "execution_count": null,
      "outputs": []
    },
    {
      "metadata": {
        "_uuid": "3153445eec15306dc8273917a5674824e0f4878f"
      },
      "cell_type": "markdown",
      "source": "We can obtain the last two elements of the tuple:"
    },
    {
      "metadata": {
        "_uuid": "be73698aeb0a08fa3c9d124462c8eba265e1151f",
        "trusted": false,
        "collapsed": true
      },
      "cell_type": "code",
      "source": "tuple2[3:5]",
      "execution_count": null,
      "outputs": []
    },
    {
      "metadata": {
        "_uuid": "e3ce4061a9a8267d7ad17f84f20c5255abf6fd9d"
      },
      "cell_type": "markdown",
      "source": "We can obtain the length of a tuple using the length command: "
    },
    {
      "metadata": {
        "_uuid": "cc93139255429f1cf732372852ae391d3f8c164e",
        "trusted": false,
        "collapsed": true
      },
      "cell_type": "code",
      "source": "len(tuple2)",
      "execution_count": null,
      "outputs": []
    },
    {
      "metadata": {
        "_uuid": "8f5d9a850259579efd0ca3fe79591fb3222e3980"
      },
      "cell_type": "markdown",
      "source": "This figure shows the number of elements:"
    },
    {
      "metadata": {
        "_uuid": "dd540b0376ce7694168c779cae03a39017fd51c1"
      },
      "cell_type": "markdown",
      "source": "\n<img src = \"https://ibm.box.com/shared/static/apxe8l3w42f597yjhizg305merlm4ijf.png\" width = 750, align = \"center\"></a>\n"
    },
    {
      "metadata": {
        "_uuid": "0d96c9877e8abe79a58a51775cf20dd8e1d1dd54"
      },
      "cell_type": "markdown",
      "source": " Consider the following tuple:"
    },
    {
      "metadata": {
        "collapsed": true,
        "_uuid": "7063320b7b5cecd4836ff08dc7b0edd617a164fe",
        "trusted": false
      },
      "cell_type": "code",
      "source": "Ratings  =(0,9,6,5,10,8,9,6,2)",
      "execution_count": null,
      "outputs": []
    },
    {
      "metadata": {
        "_uuid": "c78630317292fba4f5db364c73d8aab37b7470bc"
      },
      "cell_type": "markdown",
      "source": " We can assign the tuple to a 2nd variable:\n "
    },
    {
      "metadata": {
        "_uuid": "90332267a3407ae94d0ac7f24b50595c4cf4fcce",
        "trusted": false,
        "collapsed": true
      },
      "cell_type": "code",
      "source": "Ratings1=Ratings\nRatings",
      "execution_count": null,
      "outputs": []
    },
    {
      "metadata": {
        "_uuid": "ce3b005e5317148a78bfc9f4422e4ae782fc1d64"
      },
      "cell_type": "markdown",
      "source": "We can sort the values in a tuple and save it to a new tuple: "
    },
    {
      "metadata": {
        "_uuid": "a56a51d77dbedcc9fd29f1106211d0620781d9eb",
        "trusted": false,
        "collapsed": true
      },
      "cell_type": "code",
      "source": "RatingsSorted=sorted(Ratings )\nRatingsSorted",
      "execution_count": null,
      "outputs": []
    },
    {
      "metadata": {
        "_uuid": "113738f360ae3fc640a9ee31a23e82054cd4f871"
      },
      "cell_type": "markdown",
      "source": "A tuple can contain another tuple as well as other more complex data types.  This process is called 'nesting'. Consider the following tuple with several elements: "
    },
    {
      "metadata": {
        "collapsed": true,
        "_uuid": "fdda6c60da5c0d8bc087526a552d0425cd0eeaf0",
        "trusted": false
      },
      "cell_type": "code",
      "source": "NestedT =(1, 2, (\"pop\", \"rock\") ,(3,4),(\"disco\",(1,2)))",
      "execution_count": null,
      "outputs": []
    },
    {
      "metadata": {
        "_uuid": "3023ed5fd6b3e7900bb8bccb14c59520a322bb11"
      },
      "cell_type": "markdown",
      "source": "Each element in the tuple including other tuples can be obtained via an index as shown in the figure:"
    },
    {
      "metadata": {
        "_uuid": "f2d12d52a76e69db2bf79e483e1e2887b02b6429"
      },
      "cell_type": "markdown",
      "source": "<img src = \"https://ibm.box.com/shared/static/estqe2bczv5weocc4ag4mx9dtqy952fp.png\" width = 750, align = \"center\"></a>\n"
    },
    {
      "metadata": {
        "_uuid": "bae8583a649395c18de36c85246886dde7a44756",
        "trusted": false,
        "collapsed": true
      },
      "cell_type": "code",
      "source": "print(\"Element 0 of Tuple: \",   NestedT[0])\nprint(\"Element 1 of Tuple: \",  NestedT[1])\nprint(\"Element 2 of Tuple: \",  NestedT[2])\nprint(\"Element 3 of Tuple: \", NestedT[3])\nprint(\"Element 4 of Tuple: \", NestedT[4])",
      "execution_count": null,
      "outputs": []
    },
    {
      "metadata": {
        "_uuid": "ec5338996bfa1507a2cbf78e42c67b94aa309c39"
      },
      "cell_type": "markdown",
      "source": "We can use the second index to access other tuples as demonstrated in the figure:"
    },
    {
      "metadata": {
        "_uuid": "2146f7c124205ea44ac63430c8c5481279861480"
      },
      "cell_type": "markdown",
      "source": "<img src = \"https://ibm.box.com/shared/static/j1orgjuasaaj3d0feymedrnoqv8trqyo.png\" width = 750, align = \"center\"></a>\n"
    },
    {
      "metadata": {
        "_uuid": "2f171fea0db2939d2daeb71bf06c16f46840dcdb"
      },
      "cell_type": "markdown",
      "source": " We can access the nested tuples :"
    },
    {
      "metadata": {
        "_uuid": "4c64f1743a44f9fa51245d5c5506d62abab39828",
        "trusted": false,
        "collapsed": true
      },
      "cell_type": "code",
      "source": "print(\"Element 2,0 of Tuple: \",   NestedT[2][0])\nprint(\"Element 2,1 of Tuple: \",   NestedT[2][1])\nprint(\"Element 3,0 of Tuple: \",   NestedT[3][0])\nprint(\"Element 3,1 of Tuple: \",   NestedT[3][1])\nprint(\"Element 4,0 of Tuple: \",   NestedT[4][0])\nprint(\"Element 4,1 of Tuple: \",   NestedT[4][1])",
      "execution_count": null,
      "outputs": []
    },
    {
      "metadata": {
        "_uuid": "f4fd365c326442de6bfaf5384a7ae2e5b122f3e0"
      },
      "cell_type": "markdown",
      "source": "We can access strings in the second nested tuples using a third index:"
    },
    {
      "metadata": {
        "_uuid": "a7c19345fcdef3acadee85b810551ecf9e8b6d5e",
        "trusted": false,
        "collapsed": true
      },
      "cell_type": "code",
      "source": "NestedT[2][1][0]",
      "execution_count": null,
      "outputs": []
    },
    {
      "metadata": {
        "_uuid": "3ea5ce3e1702731cf94603d6f08beca8dec28cb4",
        "trusted": false,
        "collapsed": true
      },
      "cell_type": "code",
      "source": " NestedT[2][1][1]",
      "execution_count": null,
      "outputs": []
    },
    {
      "metadata": {
        "_uuid": "6f7e7418cfcdf16a5df79fc919281d6f248faf29"
      },
      "cell_type": "markdown",
      "source": " We can use a tree to visualise the process. Each new index corresponds to a deeper level in the tree:"
    },
    {
      "metadata": {
        "_uuid": "6daa3bd7da43c892faa0763f380ae424dfda9ce8"
      },
      "cell_type": "markdown",
      "source": " <img src ='https://ibm.box.com/shared/static/vjvsygpzpwcr6czsucgno1wukyhk5vxq.gif'  width = 750, align = \"center\"></a>"
    },
    {
      "metadata": {
        "_uuid": "9299b89d7e37be102e529dd7f6406714bf79a527"
      },
      "cell_type": "markdown",
      "source": "Similarly, we can access elements nested deeper in the tree with a fourth index:"
    },
    {
      "metadata": {
        "_uuid": "ecee7bf25cc02826490200fd4ae3ddd86c0c72af",
        "trusted": false,
        "collapsed": true
      },
      "cell_type": "code",
      "source": "NestedT[4][1][0]",
      "execution_count": null,
      "outputs": []
    },
    {
      "metadata": {
        "_uuid": "bad4eaef0780a0d7c48481f8aa518576bed33223",
        "trusted": false,
        "collapsed": true
      },
      "cell_type": "code",
      "source": "NestedT[4][1][1]",
      "execution_count": null,
      "outputs": []
    },
    {
      "metadata": {
        "_uuid": "9987c3c1e834a5d1ca234f716a7248785a83ddff"
      },
      "cell_type": "markdown",
      "source": "The following figure shows the relationship of the tree and the element **NestedT[4][1][1]**:"
    },
    {
      "metadata": {
        "_uuid": "b58e4f365882ad4854ac7f1c54a5fd649428a684"
      },
      "cell_type": "markdown",
      "source": " <img src ='https://ibm.box.com/shared/static/9y5s7515zwzc9v6i4f67yj3np2fv9evs.gif'width = 750, align = \"center\"></a>"
    },
    {
      "metadata": {
        "_uuid": "c383591d4c30178473a6dfc4ad1dc66ed63ace72"
      },
      "cell_type": "markdown",
      "source": " <a id=\"ref2\"></a>\n<h2 align=center> Quiz on Tuples </h2>"
    },
    {
      "metadata": {
        "_uuid": "ca171a1e58d7efe3723b597cb96072adcf0b6241"
      },
      "cell_type": "markdown",
      "source": "Consider the following tuple:"
    },
    {
      "metadata": {
        "_uuid": "b853e24e981250dd82f4a5fb0b1f1af799561736",
        "trusted": false,
        "collapsed": true
      },
      "cell_type": "code",
      "source": "genres_tuple = (\"pop\", \"rock\", \"soul\", \"hard rock\", \"soft rock\", \\\n                \"R&B\", \"progressive rock\", \"disco\") \ngenres_tuple",
      "execution_count": null,
      "outputs": []
    },
    {
      "metadata": {
        "_uuid": "2f08c52aebcfaf907e5fee347797872c21f4cf4d"
      },
      "cell_type": "markdown",
      "source": "#### Find the length of the tuple, \"genres_tuple\":"
    },
    {
      "metadata": {
        "_uuid": "7cdcdc0c6bf69d2c23bf1dd97a2a4dda849a0eaf",
        "trusted": false,
        "collapsed": true
      },
      "cell_type": "code",
      "source": "",
      "execution_count": null,
      "outputs": []
    },
    {
      "metadata": {
        "_uuid": "900e55299f16b2ff1f8d983d2fb31224cfcaa99d"
      },
      "cell_type": "markdown",
      "source": "<div align=\"right\">\n<a href=\"#String1\" class=\"btn btn-default\" data-toggle=\"collapse\">Click here for the solution</a>\n\n</div>\n\n\n<div id=\"String1\" class=\"collapse\">\n\n\"len(genres_tuple)\"\n <a ><img src = \"https://ibm.box.com/shared/static/n4969qbta8hhsycs2dc4n8jqbf062wdw.png\" width = 1100, align = \"center\"></a>\n```\n\n\n```\n</div>\n"
    },
    {
      "metadata": {
        "_uuid": "2d32affc27daa7e740d46934a78173c7fe183c45"
      },
      "cell_type": "markdown",
      "source": "#### Access the element, with respect to index 3: "
    },
    {
      "metadata": {
        "_uuid": "1e329438819dd6fd9518dda215a58fb7d9ed4f94",
        "trusted": false,
        "collapsed": true
      },
      "cell_type": "code",
      "source": "\n",
      "execution_count": null,
      "outputs": []
    },
    {
      "metadata": {
        "_uuid": "09841a5db2d7ed78ca52330103cd813ab9baac16"
      },
      "cell_type": "markdown",
      "source": "<div align=\"right\">\n<a href=\"#2\" class=\"btn btn-default\" data-toggle=\"collapse\">Click here for the solution</a>\n\n</div>\n\n\n<div id=\"2\" class=\"collapse\">\n\n\n <a ><img src = \"https://ibm.box.com/shared/static/s6r8v2uy6wifmaqv53w6adabqci47zme.png\" width = 1100, align = \"center\"></a>\n\n</div>\n\n\n"
    },
    {
      "metadata": {
        "_uuid": "4a17444679c1504a15654503781b5fe51439816f"
      },
      "cell_type": "markdown",
      "source": "####   Use slicing to obtain indexes 3, 4 and 5:"
    },
    {
      "metadata": {
        "_uuid": "d0a33d8ec31c6776949c0b04f5c761819592cb30",
        "trusted": false,
        "collapsed": true
      },
      "cell_type": "code",
      "source": "",
      "execution_count": null,
      "outputs": []
    },
    {
      "metadata": {
        "_uuid": "23fc678dcbf715e2e53e0e69a576c4851863cee1"
      },
      "cell_type": "markdown",
      "source": "\n  <div align=\"right\">\n<a href=\"#3\" class=\"btn btn-default\" data-toggle=\"collapse\">Click here for the solution</a>\n\n</div>\n\n\n<div id=\"3\" class=\"collapse\">\n\n\n <a ><img src = \"https://ibm.box.com/shared/static/nqo84vydw6eixdex0trybuvactcw7ffi.png\" width = 1100, align = \"center\"></a>\n\n</div>"
    },
    {
      "metadata": {
        "_uuid": "ceb5bf43fb50ec70b3687890e752fc8af03d5876"
      },
      "cell_type": "markdown",
      "source": "#### Find the first two elements of the tuple \"genres_tuple\":"
    },
    {
      "metadata": {
        "_uuid": "003a786a98ac6f1d13c0e2231d967a01a6cc3086",
        "trusted": false,
        "collapsed": true
      },
      "cell_type": "code",
      "source": "",
      "execution_count": null,
      "outputs": []
    },
    {
      "metadata": {
        "_uuid": "a188f9463acc7a4d792f72c42656c28a89e92a49"
      },
      "cell_type": "markdown",
      "source": " <div align=\"right\">\n<a href=\"#q5\" class=\"btn btn-default\" data-toggle=\"collapse\">Click here for the solution</a>\n</div>\n<div id=\"q5\" class=\"collapse\">\n```\ngenres_tuple[0:2]\n\n```\n"
    },
    {
      "metadata": {
        "_uuid": "291ebeaec57433d1cdb45051ee5ca3ec3daa71be"
      },
      "cell_type": "markdown",
      "source": "#### Find the first index of 'disco':"
    },
    {
      "metadata": {
        "_uuid": "4ce46f2755e10f25f54080f1ce77628f6db2d570",
        "trusted": false,
        "collapsed": true
      },
      "cell_type": "code",
      "source": "",
      "execution_count": null,
      "outputs": []
    },
    {
      "metadata": {
        "_uuid": "1968147021882aa834e1b69e6f08c7b64357cc19"
      },
      "cell_type": "markdown",
      "source": " <div align=\"right\">\n<a href=\"#q6\" class=\"btn btn-default\" data-toggle=\"collapse\">Click here for the solution</a>\n</div>\n<div id=\"q6\" class=\"collapse\">\n```\ngenres_tuple.index(\"disco\") \n\n```"
    },
    {
      "metadata": {
        "_uuid": "84fa62f76633583737ceec3b3fc27e99520919a5"
      },
      "cell_type": "markdown",
      "source": "<hr>"
    },
    {
      "metadata": {
        "_uuid": "52317c3e80cba27f15e28c7761109913e6443315"
      },
      "cell_type": "markdown",
      "source": "####  Generate a sorted List from the Tuple C_tuple=(-5,1,-3):"
    },
    {
      "metadata": {
        "_uuid": "af4a431e98eacc1e51f81383dcbc42ab545eef9e",
        "trusted": false,
        "collapsed": true
      },
      "cell_type": "code",
      "source": "",
      "execution_count": null,
      "outputs": []
    },
    {
      "metadata": {
        "_uuid": "ea25ad687c9f216fc89e2f19e223e2b5bdf52369"
      },
      "cell_type": "markdown",
      "source": " <div align=\"right\">\n<a href=\"#q7\" class=\"btn btn-default\" data-toggle=\"collapse\">Click here for the solution</a>\n</div>\n<div id=\"q7\" class=\"collapse\">\n```\nC_tuple = (-5,1,-3)\nC_list = sorted(C_tuple)\nC_list\n\n```"
    },
    {
      "metadata": {
        "_uuid": "4d538b9092a2fef4058effbce7c0759fbf950abf"
      },
      "cell_type": "markdown",
      "source": " <hr></hr>\n<div class=\"alert alert-success alertsuccess\" style=\"margin-top: 20px\">\n<h4> [Tip] Saving the Notebook </h4>  \n\nYour notebook saves automatically every two minutes. You can manually save by going to **File** > **Save and Checkpoint**. You can come back to this notebook anytime by clicking this notebook under the \"**Recent Notebooks**\" list on the right-hand side.   \n\n\n</div>\n<hr></hr>\n<div class=\"alert alert-success alertsuccess\" style=\"margin-top: 20px\">\n<h4> [Tip] Notebook Features </h4>  \n  \nDid you know there are other **notebook options**? Click on the **>** symbol to the left of the notebook:\n\n<img src =https://ibm.box.com/shared/static/otu40m0kkzz5hropxah1nnzd2j01itom.png width = 35%>\n\n\n<p></p>\n\n</div>\n<hr></hr>"
    },
    {
      "metadata": {
        "_uuid": "78e53751d40ea5c18601781349d6f6f17feb47ec"
      },
      "cell_type": "markdown",
      "source": " <a href=\"http://cocl.us/NotebooksPython101bottom\"><img src = \"https://ibm.box.com/shared/static/irypdxea2q4th88zu1o1tsd06dya10go.png\" width = 750, align = \"center\"></a>\n\n"
    },
    {
      "metadata": {
        "_uuid": "3b6b7616f3a6299e2ee86f515ce2f28ad17b691f"
      },
      "cell_type": "markdown",
      "source": "# About the Authors:  \n\n [Joseph Santarcangelo]( https://www.linkedin.com/in/joseph-s-50398b136/) has a PhD in Electrical Engineering, his research focused on using machine learning, signal processing, and computer vision to determine how videos impact human cognition. Joseph has been working for IBM since he completed his PhD.\n"
    },
    {
      "metadata": {
        "_uuid": "a0701e9fe536f68d8fbf5482b0f16405e5b3513e"
      },
      "cell_type": "markdown",
      "source": " <hr>\nCopyright &copy; 2017 [cognitiveclass.ai](cognitiveclass.ai?utm_source=bducopyrightlink&utm_medium=dswb&utm_campaign=bdu). This notebook and its source code are released under the terms of the [MIT License](https://bigdatauniversity.com/mit-license/).​"
    },
    {
      "metadata": {
        "collapsed": true,
        "_uuid": "d8d39fd6146ceeb8ce3418e277f631afd7c2c393",
        "trusted": false
      },
      "cell_type": "code",
      "source": "",
      "execution_count": null,
      "outputs": []
    }
  ],
  "metadata": {
    "language_info": {
      "name": "python",
      "version": "3.6.6",
      "mimetype": "text/x-python",
      "codemirror_mode": {
        "name": "ipython",
        "version": 3
      },
      "pygments_lexer": "ipython3",
      "nbconvert_exporter": "python",
      "file_extension": ".py"
    },
    "kernelspec": {
      "display_name": "Python 3",
      "language": "python",
      "name": "python3"
    }
  },
  "nbformat": 4,
  "nbformat_minor": 1
}