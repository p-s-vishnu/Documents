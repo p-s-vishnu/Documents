{
 "cells": [
  {
   "cell_type": "code",
   "execution_count": 1,
   "metadata": {
    "colab": {},
    "colab_type": "code",
    "id": "gy8bZ29YrVry"
   },
   "outputs": [],
   "source": [
    "# Order of complexity\n",
    "import numpy as np"
   ]
  },
  {
   "cell_type": "code",
   "execution_count": 2,
   "metadata": {
    "colab": {},
    "colab_type": "code",
    "id": "TFFR4gzGqcgT"
   },
   "outputs": [],
   "source": [
    "# random shuffle\n",
    "\n",
    "l = np.array([2, 5, 8, 9, 0])\n",
    "np.random.shuffle(l)"
   ]
  },
  {
   "cell_type": "code",
   "execution_count": 3,
   "metadata": {
    "colab": {
     "base_uri": "https://localhost:8080/",
     "height": 34
    },
    "colab_type": "code",
    "id": "wxC3DmXZstUV",
    "outputId": "214fc03d-5407-4d5f-aee4-aa5be0c079da"
   },
   "outputs": [
    {
     "data": {
      "text/plain": [
       "array([2, 8, 9, 0, 5])"
      ]
     },
     "execution_count": 3,
     "metadata": {},
     "output_type": "execute_result"
    }
   ],
   "source": [
    "l"
   ]
  },
  {
   "cell_type": "code",
   "execution_count": 4,
   "metadata": {
    "colab": {},
    "colab_type": "code",
    "id": "OcIIaMxlreNB"
   },
   "outputs": [],
   "source": [
    "# Binary search \n",
    "# finding n in l using binary search"
   ]
  },
  {
   "cell_type": "code",
   "execution_count": 5,
   "metadata": {},
   "outputs": [
    {
     "data": {
      "text/plain": [
       "array([2, 8, 9, 0, 5])"
      ]
     },
     "execution_count": 5,
     "metadata": {},
     "output_type": "execute_result"
    }
   ],
   "source": [
    "l"
   ]
  },
  {
   "cell_type": "code",
   "execution_count": 6,
   "metadata": {},
   "outputs": [],
   "source": [
    "# Using recursion\n",
    "def find_n(lst, left, right, n):\n",
    "    if left > right:\n",
    "        return -1\n",
    "    else:\n",
    "        mid = (left + right) // 2\n",
    "        \n",
    "        if lst[mid] == n:\n",
    "            return mid\n",
    "        elif lst[mid] < n:\n",
    "            return find_n(lst, mid+1, right, n)\n",
    "        else:\n",
    "            return find_n(lst, left, mid-1, n)"
   ]
  },
  {
   "cell_type": "code",
   "execution_count": 7,
   "metadata": {},
   "outputs": [
    {
     "name": "stdout",
     "output_type": "stream",
     "text": [
      "1\n"
     ]
    }
   ],
   "source": [
    "n = 8\n",
    "left, right = 0, len(l)-1\n",
    "a = find_n(l, left, right, n)\n",
    "print(a)"
   ]
  },
  {
   "cell_type": "code",
   "execution_count": 8,
   "metadata": {
    "colab": {},
    "colab_type": "code",
    "id": "kHtrjrKouWEV"
   },
   "outputs": [
    {
     "name": "stdout",
     "output_type": "stream",
     "text": [
      "[-1  0  1  2  3  4  5  6  7  8  9]\n",
      "[1 5 9]\n"
     ]
    }
   ],
   "source": [
    "# Elements common in two lists\n",
    "a = np.arange(-1, 10)\n",
    "b = np.linspace(1, 9, 3, dtype=int)\n",
    "print(a)\n",
    "print(b)"
   ]
  },
  {
   "cell_type": "code",
   "execution_count": 9,
   "metadata": {},
   "outputs": [],
   "source": [
    "inter = set(a) & set(b)"
   ]
  },
  {
   "cell_type": "code",
   "execution_count": 10,
   "metadata": {},
   "outputs": [
    {
     "name": "stdout",
     "output_type": "stream",
     "text": [
      "Common elements {1, 5, 9}\n"
     ]
    }
   ],
   "source": [
    "print('Common elements',inter)"
   ]
  }
 ],
 "metadata": {
  "colab": {
   "name": "Problem solving.ipynb",
   "provenance": [],
   "version": "0.3.2"
  },
  "kernelspec": {
   "display_name": "Python 3",
   "language": "python",
   "name": "python3"
  },
  "language_info": {
   "codemirror_mode": {
    "name": "ipython",
    "version": 3
   },
   "file_extension": ".py",
   "mimetype": "text/x-python",
   "name": "python",
   "nbconvert_exporter": "python",
   "pygments_lexer": "ipython3",
   "version": "3.7.2"
  }
 },
 "nbformat": 4,
 "nbformat_minor": 1
}
